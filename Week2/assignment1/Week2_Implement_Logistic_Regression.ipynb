{
 "cells": [
  {
   "cell_type": "code",
   "execution_count": 15,
   "metadata": {
    "collapsed": true
   },
   "outputs": [],
   "source": [
    "import string\n",
    "import pandas as pd\n",
    "import numpy as np\n",
    "import matplotlib.pyplot as plt\n",
    "%matplotlib inline"
   ]
  },
  {
   "cell_type": "code",
   "execution_count": 61,
   "metadata": {
    "collapsed": true
   },
   "outputs": [],
   "source": [
    "pd.set_option('display.max_columns',None)"
   ]
  },
  {
   "cell_type": "code",
   "execution_count": 148,
   "metadata": {
    "collapsed": true
   },
   "outputs": [],
   "source": [
    "products = pd.read_csv('amazon_baby_subset.csv', index_col=None)"
   ]
  },
  {
   "cell_type": "code",
   "execution_count": 149,
   "metadata": {
    "collapsed": true
   },
   "outputs": [],
   "source": [
    "important_words = pd.read_json('important_words.json')"
   ]
  },
  {
   "cell_type": "code",
   "execution_count": 150,
   "metadata": {
    "collapsed": false
   },
   "outputs": [
    {
     "name": "stdout",
     "output_type": "stream",
     "text": [
      "<class 'pandas.core.frame.DataFrame'>\n",
      "Int64Index: 53072 entries, 0 to 53071\n",
      "Data columns (total 4 columns):\n",
      "name         52982 non-null object\n",
      "review       52831 non-null object\n",
      "rating       53072 non-null int64\n",
      "sentiment    53072 non-null int64\n",
      "dtypes: int64(2), object(2)\n",
      "memory usage: 2.0+ MB\n"
     ]
    }
   ],
   "source": [
    "products.info()"
   ]
  },
  {
   "cell_type": "code",
   "execution_count": 151,
   "metadata": {
    "collapsed": false
   },
   "outputs": [
    {
     "data": {
      "text/html": [
       "<div>\n",
       "<table border=\"1\" class=\"dataframe\">\n",
       "  <thead>\n",
       "    <tr style=\"text-align: right;\">\n",
       "      <th></th>\n",
       "      <th>rating</th>\n",
       "      <th>sentiment</th>\n",
       "    </tr>\n",
       "  </thead>\n",
       "  <tbody>\n",
       "    <tr>\n",
       "      <th>count</th>\n",
       "      <td>53072.000000</td>\n",
       "      <td>53072.000000</td>\n",
       "    </tr>\n",
       "    <tr>\n",
       "      <th>mean</th>\n",
       "      <td>3.097490</td>\n",
       "      <td>0.001620</td>\n",
       "    </tr>\n",
       "    <tr>\n",
       "      <th>std</th>\n",
       "      <td>1.730509</td>\n",
       "      <td>1.000008</td>\n",
       "    </tr>\n",
       "    <tr>\n",
       "      <th>min</th>\n",
       "      <td>1.000000</td>\n",
       "      <td>-1.000000</td>\n",
       "    </tr>\n",
       "    <tr>\n",
       "      <th>25%</th>\n",
       "      <td>1.000000</td>\n",
       "      <td>-1.000000</td>\n",
       "    </tr>\n",
       "    <tr>\n",
       "      <th>50%</th>\n",
       "      <td>4.000000</td>\n",
       "      <td>1.000000</td>\n",
       "    </tr>\n",
       "    <tr>\n",
       "      <th>75%</th>\n",
       "      <td>5.000000</td>\n",
       "      <td>1.000000</td>\n",
       "    </tr>\n",
       "    <tr>\n",
       "      <th>max</th>\n",
       "      <td>5.000000</td>\n",
       "      <td>1.000000</td>\n",
       "    </tr>\n",
       "  </tbody>\n",
       "</table>\n",
       "</div>"
      ],
      "text/plain": [
       "             rating     sentiment\n",
       "count  53072.000000  53072.000000\n",
       "mean       3.097490      0.001620\n",
       "std        1.730509      1.000008\n",
       "min        1.000000     -1.000000\n",
       "25%        1.000000     -1.000000\n",
       "50%        4.000000      1.000000\n",
       "75%        5.000000      1.000000\n",
       "max        5.000000      1.000000"
      ]
     },
     "execution_count": 151,
     "metadata": {},
     "output_type": "execute_result"
    }
   ],
   "source": [
    "products.describe()"
   ]
  },
  {
   "cell_type": "code",
   "execution_count": 152,
   "metadata": {
    "collapsed": false
   },
   "outputs": [
    {
     "data": {
      "text/plain": [
       "26493"
      ]
     },
     "execution_count": 152,
     "metadata": {},
     "output_type": "execute_result"
    }
   ],
   "source": [
    "len(products[products.sentiment == -1])"
   ]
  },
  {
   "cell_type": "code",
   "execution_count": 153,
   "metadata": {
    "collapsed": false
   },
   "outputs": [
    {
     "data": {
      "text/plain": [
       "26579"
      ]
     },
     "execution_count": 153,
     "metadata": {},
     "output_type": "execute_result"
    }
   ],
   "source": [
    "len(products[products.sentiment == 1])"
   ]
  },
  {
   "cell_type": "code",
   "execution_count": 154,
   "metadata": {
    "collapsed": false
   },
   "outputs": [
    {
     "data": {
      "text/plain": [
       "241"
      ]
     },
     "execution_count": 154,
     "metadata": {},
     "output_type": "execute_result"
    }
   ],
   "source": [
    "len(products[products.review.isnull()])"
   ]
  },
  {
   "cell_type": "code",
   "execution_count": 155,
   "metadata": {
    "collapsed": true
   },
   "outputs": [],
   "source": [
    "products = products.fillna({'review':''})"
   ]
  },
  {
   "cell_type": "code",
   "execution_count": 156,
   "metadata": {
    "collapsed": false
   },
   "outputs": [
    {
     "data": {
      "text/plain": [
       "0"
      ]
     },
     "execution_count": 156,
     "metadata": {},
     "output_type": "execute_result"
    }
   ],
   "source": [
    "len(products[products.review.isnull()])"
   ]
  },
  {
   "cell_type": "code",
   "execution_count": 157,
   "metadata": {
    "collapsed": true
   },
   "outputs": [],
   "source": [
    "def remove_punctutation(text):\n",
    "    return text.translate(None, string.punctuation)"
   ]
  },
  {
   "cell_type": "code",
   "execution_count": 158,
   "metadata": {
    "collapsed": false
   },
   "outputs": [],
   "source": [
    "products['review_clean'] = products['review'].apply(remove_punctutation)"
   ]
  },
  {
   "cell_type": "code",
   "execution_count": 159,
   "metadata": {
    "collapsed": false
   },
   "outputs": [
    {
     "data": {
      "text/plain": [
       "'All of my kids have cried nonstop when I tried to ween them off their pacifier until I found Thumbuddy To Loves Binky Fairy Puppet  It is an easy way to work with your kids to allow them to understand where their pacifier is going and help them part from itThis is a must buy book and a great gift for expecting parents  You will save them soo many headachesThanks for this book  You all rock'"
      ]
     },
     "execution_count": 159,
     "metadata": {},
     "output_type": "execute_result"
    }
   ],
   "source": [
    "products.ix[0,'review_clean']"
   ]
  },
  {
   "cell_type": "code",
   "execution_count": 160,
   "metadata": {
    "collapsed": false
   },
   "outputs": [],
   "source": [
    "def create_important_word_feature(data, feature_column, important_words):\n",
    "    for words in important_words:\n",
    "        data[words] = data[feature_column].apply(lambda s: s.split(' ').count(words))\n",
    "    return data"
   ]
  },
  {
   "cell_type": "code",
   "execution_count": 59,
   "metadata": {
    "collapsed": false
   },
   "outputs": [],
   "source": [
    "products = create_important_word_feature(products,'review_clean', important_words[0].values)"
   ]
  },
  {
   "cell_type": "code",
   "execution_count": 63,
   "metadata": {
    "collapsed": false
   },
   "outputs": [
    {
     "data": {
      "text/html": [
       "<div>\n",
       "<table border=\"1\" class=\"dataframe\">\n",
       "  <thead>\n",
       "    <tr style=\"text-align: right;\">\n",
       "      <th></th>\n",
       "      <th>name</th>\n",
       "      <th>review</th>\n",
       "      <th>rating</th>\n",
       "      <th>sentiment</th>\n",
       "      <th>review_clean</th>\n",
       "      <th>baby</th>\n",
       "      <th>one</th>\n",
       "      <th>great</th>\n",
       "      <th>love</th>\n",
       "      <th>use</th>\n",
       "      <th>would</th>\n",
       "      <th>like</th>\n",
       "      <th>easy</th>\n",
       "      <th>little</th>\n",
       "      <th>seat</th>\n",
       "      <th>old</th>\n",
       "      <th>well</th>\n",
       "      <th>get</th>\n",
       "      <th>also</th>\n",
       "      <th>really</th>\n",
       "      <th>son</th>\n",
       "      <th>time</th>\n",
       "      <th>bought</th>\n",
       "      <th>product</th>\n",
       "      <th>good</th>\n",
       "      <th>daughter</th>\n",
       "      <th>much</th>\n",
       "      <th>loves</th>\n",
       "      <th>stroller</th>\n",
       "      <th>put</th>\n",
       "      <th>months</th>\n",
       "      <th>car</th>\n",
       "      <th>still</th>\n",
       "      <th>back</th>\n",
       "      <th>used</th>\n",
       "      <th>recommend</th>\n",
       "      <th>first</th>\n",
       "      <th>even</th>\n",
       "      <th>perfect</th>\n",
       "      <th>nice</th>\n",
       "      <th>bag</th>\n",
       "      <th>two</th>\n",
       "      <th>using</th>\n",
       "      <th>got</th>\n",
       "      <th>fit</th>\n",
       "      <th>around</th>\n",
       "      <th>diaper</th>\n",
       "      <th>enough</th>\n",
       "      <th>month</th>\n",
       "      <th>price</th>\n",
       "      <th>go</th>\n",
       "      <th>could</th>\n",
       "      <th>soft</th>\n",
       "      <th>since</th>\n",
       "      <th>buy</th>\n",
       "      <th>room</th>\n",
       "      <th>works</th>\n",
       "      <th>made</th>\n",
       "      <th>child</th>\n",
       "      <th>keep</th>\n",
       "      <th>size</th>\n",
       "      <th>small</th>\n",
       "      <th>need</th>\n",
       "      <th>year</th>\n",
       "      <th>big</th>\n",
       "      <th>make</th>\n",
       "      <th>take</th>\n",
       "      <th>easily</th>\n",
       "      <th>think</th>\n",
       "      <th>crib</th>\n",
       "      <th>clean</th>\n",
       "      <th>way</th>\n",
       "      <th>quality</th>\n",
       "      <th>thing</th>\n",
       "      <th>better</th>\n",
       "      <th>without</th>\n",
       "      <th>set</th>\n",
       "      <th>new</th>\n",
       "      <th>every</th>\n",
       "      <th>cute</th>\n",
       "      <th>best</th>\n",
       "      <th>bottles</th>\n",
       "      <th>work</th>\n",
       "      <th>purchased</th>\n",
       "      <th>right</th>\n",
       "      <th>lot</th>\n",
       "      <th>side</th>\n",
       "      <th>happy</th>\n",
       "      <th>comfortable</th>\n",
       "      <th>toy</th>\n",
       "      <th>able</th>\n",
       "      <th>kids</th>\n",
       "      <th>bit</th>\n",
       "      <th>night</th>\n",
       "      <th>long</th>\n",
       "      <th>fits</th>\n",
       "      <th>see</th>\n",
       "      <th>us</th>\n",
       "      <th>another</th>\n",
       "      <th>play</th>\n",
       "      <th>day</th>\n",
       "      <th>money</th>\n",
       "      <th>monitor</th>\n",
       "      <th>tried</th>\n",
       "      <th>thought</th>\n",
       "      <th>never</th>\n",
       "      <th>item</th>\n",
       "      <th>hard</th>\n",
       "      <th>plastic</th>\n",
       "      <th>however</th>\n",
       "      <th>disappointed</th>\n",
       "      <th>reviews</th>\n",
       "      <th>something</th>\n",
       "      <th>going</th>\n",
       "      <th>pump</th>\n",
       "      <th>bottle</th>\n",
       "      <th>cup</th>\n",
       "      <th>waste</th>\n",
       "      <th>return</th>\n",
       "      <th>amazon</th>\n",
       "      <th>different</th>\n",
       "      <th>top</th>\n",
       "      <th>want</th>\n",
       "      <th>problem</th>\n",
       "      <th>know</th>\n",
       "      <th>water</th>\n",
       "      <th>try</th>\n",
       "      <th>received</th>\n",
       "      <th>sure</th>\n",
       "      <th>times</th>\n",
       "      <th>chair</th>\n",
       "      <th>find</th>\n",
       "      <th>hold</th>\n",
       "      <th>gate</th>\n",
       "      <th>open</th>\n",
       "      <th>bottom</th>\n",
       "      <th>away</th>\n",
       "      <th>actually</th>\n",
       "      <th>cheap</th>\n",
       "      <th>worked</th>\n",
       "      <th>getting</th>\n",
       "      <th>ordered</th>\n",
       "      <th>came</th>\n",
       "      <th>milk</th>\n",
       "      <th>bad</th>\n",
       "      <th>part</th>\n",
       "      <th>worth</th>\n",
       "      <th>found</th>\n",
       "      <th>cover</th>\n",
       "      <th>many</th>\n",
       "      <th>design</th>\n",
       "      <th>looking</th>\n",
       "      <th>weeks</th>\n",
       "      <th>say</th>\n",
       "      <th>wanted</th>\n",
       "      <th>look</th>\n",
       "      <th>place</th>\n",
       "      <th>purchase</th>\n",
       "      <th>looks</th>\n",
       "      <th>second</th>\n",
       "      <th>piece</th>\n",
       "      <th>box</th>\n",
       "      <th>pretty</th>\n",
       "      <th>trying</th>\n",
       "      <th>difficult</th>\n",
       "      <th>together</th>\n",
       "      <th>though</th>\n",
       "      <th>give</th>\n",
       "      <th>started</th>\n",
       "      <th>anything</th>\n",
       "      <th>last</th>\n",
       "      <th>company</th>\n",
       "      <th>come</th>\n",
       "      <th>returned</th>\n",
       "      <th>maybe</th>\n",
       "      <th>took</th>\n",
       "      <th>broke</th>\n",
       "      <th>makes</th>\n",
       "      <th>stay</th>\n",
       "      <th>instead</th>\n",
       "      <th>idea</th>\n",
       "      <th>head</th>\n",
       "      <th>said</th>\n",
       "      <th>less</th>\n",
       "      <th>went</th>\n",
       "      <th>working</th>\n",
       "      <th>high</th>\n",
       "      <th>unit</th>\n",
       "      <th>seems</th>\n",
       "      <th>picture</th>\n",
       "      <th>completely</th>\n",
       "      <th>wish</th>\n",
       "      <th>buying</th>\n",
       "      <th>babies</th>\n",
       "      <th>won</th>\n",
       "      <th>tub</th>\n",
       "      <th>almost</th>\n",
       "      <th>either</th>\n",
       "    </tr>\n",
       "  </thead>\n",
       "  <tbody>\n",
       "    <tr>\n",
       "      <th>0</th>\n",
       "      <td>Stop Pacifier Sucking without tears with Thumb...</td>\n",
       "      <td>All of my kids have cried non-stop when I trie...</td>\n",
       "      <td>5</td>\n",
       "      <td>1</td>\n",
       "      <td>All of my kids have cried nonstop when I tried...</td>\n",
       "      <td>0</td>\n",
       "      <td>0</td>\n",
       "      <td>1</td>\n",
       "      <td>0</td>\n",
       "      <td>0</td>\n",
       "      <td>0</td>\n",
       "      <td>0</td>\n",
       "      <td>1</td>\n",
       "      <td>0</td>\n",
       "      <td>0</td>\n",
       "      <td>0</td>\n",
       "      <td>0</td>\n",
       "      <td>0</td>\n",
       "      <td>0</td>\n",
       "      <td>0</td>\n",
       "      <td>0</td>\n",
       "      <td>0</td>\n",
       "      <td>0</td>\n",
       "      <td>0</td>\n",
       "      <td>0</td>\n",
       "      <td>0</td>\n",
       "      <td>0</td>\n",
       "      <td>0</td>\n",
       "      <td>0</td>\n",
       "      <td>0</td>\n",
       "      <td>0</td>\n",
       "      <td>0</td>\n",
       "      <td>0</td>\n",
       "      <td>0</td>\n",
       "      <td>0</td>\n",
       "      <td>0</td>\n",
       "      <td>0</td>\n",
       "      <td>0</td>\n",
       "      <td>0</td>\n",
       "      <td>0</td>\n",
       "      <td>0</td>\n",
       "      <td>0</td>\n",
       "      <td>0</td>\n",
       "      <td>0</td>\n",
       "      <td>0</td>\n",
       "      <td>0</td>\n",
       "      <td>0</td>\n",
       "      <td>0</td>\n",
       "      <td>0</td>\n",
       "      <td>0</td>\n",
       "      <td>0</td>\n",
       "      <td>0</td>\n",
       "      <td>0</td>\n",
       "      <td>0</td>\n",
       "      <td>1</td>\n",
       "      <td>0</td>\n",
       "      <td>0</td>\n",
       "      <td>0</td>\n",
       "      <td>0</td>\n",
       "      <td>0</td>\n",
       "      <td>0</td>\n",
       "      <td>0</td>\n",
       "      <td>0</td>\n",
       "      <td>0</td>\n",
       "      <td>0</td>\n",
       "      <td>0</td>\n",
       "      <td>0</td>\n",
       "      <td>0</td>\n",
       "      <td>0</td>\n",
       "      <td>0</td>\n",
       "      <td>0</td>\n",
       "      <td>1</td>\n",
       "      <td>0</td>\n",
       "      <td>0</td>\n",
       "      <td>0</td>\n",
       "      <td>0</td>\n",
       "      <td>0</td>\n",
       "      <td>0</td>\n",
       "      <td>0</td>\n",
       "      <td>0</td>\n",
       "      <td>0</td>\n",
       "      <td>0</td>\n",
       "      <td>1</td>\n",
       "      <td>0</td>\n",
       "      <td>0</td>\n",
       "      <td>0</td>\n",
       "      <td>0</td>\n",
       "      <td>0</td>\n",
       "      <td>0</td>\n",
       "      <td>0</td>\n",
       "      <td>0</td>\n",
       "      <td>2</td>\n",
       "      <td>0</td>\n",
       "      <td>0</td>\n",
       "      <td>0</td>\n",
       "      <td>0</td>\n",
       "      <td>0</td>\n",
       "      <td>0</td>\n",
       "      <td>0</td>\n",
       "      <td>0</td>\n",
       "      <td>0</td>\n",
       "      <td>0</td>\n",
       "      <td>0</td>\n",
       "      <td>1</td>\n",
       "      <td>0</td>\n",
       "      <td>0</td>\n",
       "      <td>0</td>\n",
       "      <td>0</td>\n",
       "      <td>0</td>\n",
       "      <td>0</td>\n",
       "      <td>0</td>\n",
       "      <td>0</td>\n",
       "      <td>0</td>\n",
       "      <td>1</td>\n",
       "      <td>0</td>\n",
       "      <td>0</td>\n",
       "      <td>0</td>\n",
       "      <td>0</td>\n",
       "      <td>0</td>\n",
       "      <td>0</td>\n",
       "      <td>0</td>\n",
       "      <td>0</td>\n",
       "      <td>0</td>\n",
       "      <td>0</td>\n",
       "      <td>0</td>\n",
       "      <td>0</td>\n",
       "      <td>0</td>\n",
       "      <td>0</td>\n",
       "      <td>0</td>\n",
       "      <td>0</td>\n",
       "      <td>0</td>\n",
       "      <td>0</td>\n",
       "      <td>0</td>\n",
       "      <td>0</td>\n",
       "      <td>0</td>\n",
       "      <td>0</td>\n",
       "      <td>0</td>\n",
       "      <td>0</td>\n",
       "      <td>0</td>\n",
       "      <td>0</td>\n",
       "      <td>0</td>\n",
       "      <td>0</td>\n",
       "      <td>0</td>\n",
       "      <td>0</td>\n",
       "      <td>0</td>\n",
       "      <td>1</td>\n",
       "      <td>0</td>\n",
       "      <td>1</td>\n",
       "      <td>0</td>\n",
       "      <td>1</td>\n",
       "      <td>0</td>\n",
       "      <td>0</td>\n",
       "      <td>0</td>\n",
       "      <td>0</td>\n",
       "      <td>0</td>\n",
       "      <td>0</td>\n",
       "      <td>0</td>\n",
       "      <td>0</td>\n",
       "      <td>0</td>\n",
       "      <td>0</td>\n",
       "      <td>0</td>\n",
       "      <td>0</td>\n",
       "      <td>0</td>\n",
       "      <td>0</td>\n",
       "      <td>0</td>\n",
       "      <td>0</td>\n",
       "      <td>0</td>\n",
       "      <td>0</td>\n",
       "      <td>0</td>\n",
       "      <td>0</td>\n",
       "      <td>0</td>\n",
       "      <td>0</td>\n",
       "      <td>0</td>\n",
       "      <td>0</td>\n",
       "      <td>0</td>\n",
       "      <td>0</td>\n",
       "      <td>0</td>\n",
       "      <td>0</td>\n",
       "      <td>0</td>\n",
       "      <td>0</td>\n",
       "      <td>0</td>\n",
       "      <td>0</td>\n",
       "      <td>0</td>\n",
       "      <td>0</td>\n",
       "      <td>0</td>\n",
       "      <td>0</td>\n",
       "      <td>0</td>\n",
       "      <td>0</td>\n",
       "      <td>0</td>\n",
       "      <td>0</td>\n",
       "      <td>0</td>\n",
       "      <td>0</td>\n",
       "      <td>0</td>\n",
       "      <td>0</td>\n",
       "      <td>0</td>\n",
       "      <td>0</td>\n",
       "      <td>0</td>\n",
       "      <td>0</td>\n",
       "    </tr>\n",
       "  </tbody>\n",
       "</table>\n",
       "</div>"
      ],
      "text/plain": [
       "                                                name  \\\n",
       "0  Stop Pacifier Sucking without tears with Thumb...   \n",
       "\n",
       "                                              review  rating  sentiment  \\\n",
       "0  All of my kids have cried non-stop when I trie...       5          1   \n",
       "\n",
       "                                        review_clean  baby  one  great  love  \\\n",
       "0  All of my kids have cried nonstop when I tried...     0    0      1     0   \n",
       "\n",
       "   use  would  like  easy  little  seat  old  well  get  also  really  son  \\\n",
       "0    0      0     0     1       0     0    0     0    0     0       0    0   \n",
       "\n",
       "   time  bought  product  good  daughter  much  loves  stroller  put  months  \\\n",
       "0     0       0        0     0         0     0      0         0    0       0   \n",
       "\n",
       "   car  still  back  used  recommend  first  even  perfect  nice  bag  two  \\\n",
       "0    0      0     0     0          0      0     0        0     0    0    0   \n",
       "\n",
       "   using  got  fit  around  diaper  enough  month  price  go  could  soft  \\\n",
       "0      0    0    0       0       0       0      0      0   0      0     0   \n",
       "\n",
       "   since  buy  room  works  made  child  keep  size  small  need  year  big  \\\n",
       "0      0    1     0      0     0      0     0     0      0     0     0    0   \n",
       "\n",
       "   make  take  easily  think  crib  clean  way  quality  thing  better  \\\n",
       "0     0     0       0      0     0      0    1        0      0       0   \n",
       "\n",
       "   without  set  new  every  cute  best  bottles  work  purchased  right  lot  \\\n",
       "0        0    0    0      0     0     0        0     1          0      0    0   \n",
       "\n",
       "   side  happy  comfortable  toy  able  kids  bit  night  long  fits  see  us  \\\n",
       "0     0      0            0    0     0     2    0      0     0     0    0   0   \n",
       "\n",
       "   another  play  day  money  monitor  tried  thought  never  item  hard  \\\n",
       "0        0     0    0      0        0      1        0      0     0     0   \n",
       "\n",
       "   plastic  however  disappointed  reviews  something  going  pump  bottle  \\\n",
       "0        0        0             0        0          0      1     0       0   \n",
       "\n",
       "   cup  waste  return  amazon  different  top  want  problem  know  water  \\\n",
       "0    0      0       0       0          0    0     0        0     0      0   \n",
       "\n",
       "   try  received  sure  times  chair  find  hold  gate  open  bottom  away  \\\n",
       "0    0         0     0      0      0     0     0     0     0       0     0   \n",
       "\n",
       "   actually  cheap  worked  getting  ordered  came  milk  bad  part  worth  \\\n",
       "0         0      0       0        0        0     0     0    0     1      0   \n",
       "\n",
       "   found  cover  many  design  looking  weeks  say  wanted  look  place  \\\n",
       "0      1      0     1       0        0      0    0       0     0      0   \n",
       "\n",
       "   purchase  looks  second  piece  box  pretty  trying  difficult  together  \\\n",
       "0         0      0       0      0    0       0       0          0         0   \n",
       "\n",
       "   though  give  started  anything  last  company  come  returned  maybe  \\\n",
       "0       0     0        0         0     0        0     0         0      0   \n",
       "\n",
       "   took  broke  makes  stay  instead  idea  head  said  less  went  working  \\\n",
       "0     0      0      0     0        0     0     0     0     0     0        0   \n",
       "\n",
       "   high  unit  seems  picture  completely  wish  buying  babies  won  tub  \\\n",
       "0     0     0      0        0           0     0       0       0    0    0   \n",
       "\n",
       "   almost  either  \n",
       "0       0       0  "
      ]
     },
     "execution_count": 63,
     "metadata": {},
     "output_type": "execute_result"
    }
   ],
   "source": [
    "products.head(1)"
   ]
  },
  {
   "cell_type": "code",
   "execution_count": 66,
   "metadata": {
    "collapsed": false
   },
   "outputs": [
    {
     "data": {
      "text/plain": [
       "(2955, 198)"
      ]
     },
     "execution_count": 66,
     "metadata": {},
     "output_type": "execute_result"
    }
   ],
   "source": [
    "products[products.perfect >=1].shape"
   ]
  },
  {
   "cell_type": "code",
   "execution_count": 88,
   "metadata": {
    "collapsed": true
   },
   "outputs": [],
   "source": [
    "def create_feature_matrix(data, feature_columns, label_columns):\n",
    "    intercept_feature = np.ones(products.shape[0])\n",
    "    feature = data[feature_columns]\n",
    "    feature = np.column_stack((intercept_feature, feature))\n",
    "    return feature, data[label_columns].as_matrix()"
   ]
  },
  {
   "cell_type": "code",
   "execution_count": 89,
   "metadata": {
    "collapsed": true
   },
   "outputs": [],
   "source": [
    "feature, label = create_feature_matrix(products, important_words[0].values, 'sentiment')"
   ]
  },
  {
   "cell_type": "code",
   "execution_count": 90,
   "metadata": {
    "collapsed": false
   },
   "outputs": [
    {
     "data": {
      "text/plain": [
       "(53072, 194)"
      ]
     },
     "execution_count": 90,
     "metadata": {},
     "output_type": "execute_result"
    }
   ],
   "source": [
    "feature.shape"
   ]
  },
  {
   "cell_type": "code",
   "execution_count": 91,
   "metadata": {
    "collapsed": false
   },
   "outputs": [
    {
     "data": {
      "text/plain": [
       "array([[ 1.,  0.,  0., ...,  0.,  0.,  0.],\n",
       "       [ 1.,  0.,  0., ...,  0.,  0.,  0.],\n",
       "       [ 1.,  1.,  0., ...,  0.,  0.,  0.],\n",
       "       ..., \n",
       "       [ 1.,  0.,  0., ...,  0.,  0.,  0.],\n",
       "       [ 1.,  0.,  1., ...,  0.,  0.,  0.],\n",
       "       [ 1.,  0.,  0., ...,  0.,  0.,  0.]])"
      ]
     },
     "execution_count": 91,
     "metadata": {},
     "output_type": "execute_result"
    }
   ],
   "source": [
    "feature"
   ]
  },
  {
   "cell_type": "code",
   "execution_count": 99,
   "metadata": {
    "collapsed": false
   },
   "outputs": [],
   "source": [
    "def predict_probability(feature_matrix, coefficients):\n",
    "    return 1/(1 + np.exp(-feature_matrix.dot(coefficients.T)))\n",
    "    "
   ]
  },
  {
   "cell_type": "code",
   "execution_count": 98,
   "metadata": {
    "collapsed": false
   },
   "outputs": [
    {
     "data": {
      "text/plain": [
       "array([ 0.26894142,  0.11920292])"
      ]
     },
     "execution_count": 98,
     "metadata": {},
     "output_type": "execute_result"
    }
   ],
   "source": [
    "a = [1,2]\n",
    "1/(1+np.exp(a))"
   ]
  },
  {
   "cell_type": "code",
   "execution_count": 100,
   "metadata": {
    "collapsed": true
   },
   "outputs": [],
   "source": [
    "def feature_derivative(errors, features):\n",
    "    return (errors.T).dot(features.T)"
   ]
  },
  {
   "cell_type": "code",
   "execution_count": 109,
   "metadata": {
    "collapsed": true
   },
   "outputs": [],
   "source": [
    "def compute_log_likelihood(feature_matrix, sentiment, coefficients):\n",
    "    indicator = (sentiment == 1)\n",
    "    scores = feature_matrix.dot(coefficients.T)\n",
    "    ll = (indicator - 1)*scores - np.log(1 + np.exp(-scores))\n",
    "    return np.sum(ll)"
   ]
  },
  {
   "cell_type": "code",
   "execution_count": 183,
   "metadata": {
    "collapsed": true
   },
   "outputs": [],
   "source": [
    "def logistic_regression(feature_matrix, sentiment, initial_coefficients, step_size, max_iter):\n",
    "    coefficients = np.array(initial_coefficients)\n",
    "    indicator = (sentiment == 1)\n",
    "    ll =[]\n",
    "    for i in range(max_iter):\n",
    "    \n",
    "        prediction = predict_probability(feature_matrix, coefficients)\n",
    "        grad = (feature_matrix.T.dot((indicator - prediction).T)).T\n",
    "        coefficients += step_size*grad\n",
    "        ll.append(compute_log_likelihood(feature_matrix, sentiment, coefficients))\n",
    "#         if i % 10 == 0:\n",
    "#             print compute_log_likelihood(feature_matrix, sentiment, coefficients)\n",
    "    return coefficients, ll\n",
    "        "
   ]
  },
  {
   "cell_type": "code",
   "execution_count": 184,
   "metadata": {
    "collapsed": true
   },
   "outputs": [],
   "source": [
    "initial_coefficients = np.zeros(len(important_words)+1)\n",
    "step_size = 1e-7\n",
    "max_iter = 1000"
   ]
  },
  {
   "cell_type": "code",
   "execution_count": 185,
   "metadata": {
    "collapsed": false
   },
   "outputs": [],
   "source": [
    "coefficients, ll = logistic_regression(feature, label, initial_coefficients, step_size, max_iter)"
   ]
  },
  {
   "cell_type": "code",
   "execution_count": 186,
   "metadata": {
    "collapsed": false
   },
   "outputs": [
    {
     "data": {
      "text/plain": [
       "[<matplotlib.lines.Line2D at 0x120873b50>]"
      ]
     },
     "execution_count": 186,
     "metadata": {},
     "output_type": "execute_result"
    },
    {
     "data": {
      "image/png": "[encoded data removed]",
      "text/plain": [
       "<matplotlib.figure.Figure at 0x11dd97e50>"
      ]
     },
     "metadata": {},
     "output_type": "display_data"
    }
   ],
   "source": [
    "plt.plot(ll, 'bo')"
   ]
  },
  {
   "cell_type": "code",
   "execution_count": 141,
   "metadata": {
    "collapsed": true
   },
   "outputs": [],
   "source": [
    "def predict_class(feature_matrix, coefficients):\n",
    "    score = pd.DataFrame({\"Score\":feature_matrix.dot(coefficients.T)})\n",
    "    score['predicted_sentiment'] = np.where(score.Score >0,1,-1)\n",
    "                          \n",
    "    \n",
    "    return score"
   ]
  },
  {
   "cell_type": "code",
   "execution_count": 142,
   "metadata": {
    "collapsed": true
   },
   "outputs": [],
   "source": [
    "prediction = predict_class(feature, coefficients)"
   ]
  },
  {
   "cell_type": "code",
   "execution_count": 143,
   "metadata": {
    "collapsed": false
   },
   "outputs": [
    {
     "data": {
      "text/plain": [
       "(53072, 2)"
      ]
     },
     "execution_count": 143,
     "metadata": {},
     "output_type": "execute_result"
    }
   ],
   "source": [
    "prediction.shape"
   ]
  },
  {
   "cell_type": "code",
   "execution_count": 145,
   "metadata": {
    "collapsed": false
   },
   "outputs": [
    {
     "data": {
      "text/plain": [
       "(25126, 2)"
      ]
     },
     "execution_count": 145,
     "metadata": {},
     "output_type": "execute_result"
    }
   ],
   "source": [
    "prediction[prediction.predicted_sentiment ==1].shape"
   ]
  },
  {
   "cell_type": "code",
   "execution_count": 161,
   "metadata": {
    "collapsed": false
   },
   "outputs": [],
   "source": [
    "products = pd.concat([products, prediction], axis=1)"
   ]
  },
  {
   "cell_type": "code",
   "execution_count": 162,
   "metadata": {
    "collapsed": false
   },
   "outputs": [
    {
     "data": {
      "text/html": [
       "<div>\n",
       "<table border=\"1\" class=\"dataframe\">\n",
       "  <thead>\n",
       "    <tr style=\"text-align: right;\">\n",
       "      <th></th>\n",
       "      <th>name</th>\n",
       "      <th>review</th>\n",
       "      <th>rating</th>\n",
       "      <th>sentiment</th>\n",
       "      <th>review_clean</th>\n",
       "      <th>Score</th>\n",
       "      <th>predicted_sentiment</th>\n",
       "    </tr>\n",
       "  </thead>\n",
       "  <tbody>\n",
       "    <tr>\n",
       "      <th>0</th>\n",
       "      <td>Stop Pacifier Sucking without tears with Thumb...</td>\n",
       "      <td>All of my kids have cried non-stop when I trie...</td>\n",
       "      <td>5</td>\n",
       "      <td>1</td>\n",
       "      <td>All of my kids have cried nonstop when I tried...</td>\n",
       "      <td>0.051046</td>\n",
       "      <td>1</td>\n",
       "    </tr>\n",
       "  </tbody>\n",
       "</table>\n",
       "</div>"
      ],
      "text/plain": [
       "                                                name  \\\n",
       "0  Stop Pacifier Sucking without tears with Thumb...   \n",
       "\n",
       "                                              review  rating  sentiment  \\\n",
       "0  All of my kids have cried non-stop when I trie...       5          1   \n",
       "\n",
       "                                        review_clean     Score  \\\n",
       "0  All of my kids have cried nonstop when I tried...  0.051046   \n",
       "\n",
       "   predicted_sentiment  \n",
       "0                    1  "
      ]
     },
     "execution_count": 162,
     "metadata": {},
     "output_type": "execute_result"
    }
   ],
   "source": [
    "products.head(1)"
   ]
  },
  {
   "cell_type": "code",
   "execution_count": 163,
   "metadata": {
    "collapsed": true
   },
   "outputs": [],
   "source": [
    "accuracy = products[products.sentiment == products.predicted_sentiment].shape[0]*1.0/products.shape[0]"
   ]
  },
  {
   "cell_type": "code",
   "execution_count": 164,
   "metadata": {
    "collapsed": false
   },
   "outputs": [
    {
     "data": {
      "text/plain": [
       "0.7518653904130238"
      ]
     },
     "execution_count": 164,
     "metadata": {},
     "output_type": "execute_result"
    }
   ],
   "source": [
    "accuracy"
   ]
  },
  {
   "cell_type": "code",
   "execution_count": 176,
   "metadata": {
    "collapsed": false
   },
   "outputs": [
    {
     "data": {
      "text/plain": [
       "0.500810220078384"
      ]
     },
     "execution_count": 176,
     "metadata": {},
     "output_type": "execute_result"
    }
   ],
   "source": [
    "## Calculating the accuracy of random classifier, which classifies everything as positive\n",
    "products[products.sentiment == 1].shape[0]*1.0/products.shape[0]"
   ]
  },
  {
   "cell_type": "code",
   "execution_count": 179,
   "metadata": {
    "collapsed": false
   },
   "outputs": [
    {
     "data": {
      "text/plain": [
       "u'great'"
      ]
     },
     "execution_count": 179,
     "metadata": {},
     "output_type": "execute_result"
    }
   ],
   "source": [
    "important_words[0][np.argmax(coefficients)]"
   ]
  },
  {
   "cell_type": "code",
   "execution_count": 180,
   "metadata": {
    "collapsed": false
   },
   "outputs": [
    {
     "data": {
      "text/plain": [
       "u'would'"
      ]
     },
     "execution_count": 180,
     "metadata": {},
     "output_type": "execute_result"
    }
   ],
   "source": [
    "important_words[0][np.argmin(coefficients)]"
   ]
  },
  {
   "cell_type": "code",
   "execution_count": 170,
   "metadata": {
    "collapsed": true
   },
   "outputs": [],
   "source": [
    "coefficients = list(coefficients[1:]) # exclude intercept\n",
    "word_coefficient_tuples = [(word, coefficient) for word, coefficient in zip(important_words[0], coefficients)]\n",
    "word_coefficient_tuples = sorted(word_coefficient_tuples, key=lambda x:x[1], reverse=True)"
   ]
  },
  {
   "cell_type": "code",
   "execution_count": 172,
   "metadata": {
    "collapsed": false
   },
   "outputs": [
    {
     "data": {
      "text/plain": [
       "[(u'great', 0.06654608417045775),\n",
       " (u'love', 0.065890762922123258),\n",
       " (u'easy', 0.064794586802578394),\n",
       " (u'little', 0.045435626308421365),\n",
       " (u'loves', 0.044976401394906038),\n",
       " (u'well', 0.030135001092107067),\n",
       " (u'perfect', 0.029739937104968459),\n",
       " (u'old', 0.020077541034775385),\n",
       " (u'nice', 0.018408707995268989),\n",
       " (u'daughter', 0.017703199905701704)]"
      ]
     },
     "execution_count": 172,
     "metadata": {},
     "output_type": "execute_result"
    }
   ],
   "source": [
    "# Top ten most positive words\n",
    "word_coefficient_tuples[:10]"
   ]
  },
  {
   "cell_type": "code",
   "execution_count": 175,
   "metadata": {
    "collapsed": false
   },
   "outputs": [
    {
     "data": {
      "text/plain": [
       "[(u'monitor', -0.024482100545891724),\n",
       " (u'return', -0.026592778462247283),\n",
       " (u'back', -0.027742697230661331),\n",
       " (u'get', -0.028711552980192585),\n",
       " (u'disappointed', -0.028978976142317068),\n",
       " (u'even', -0.030051249236035808),\n",
       " (u'work', -0.033069515294752716),\n",
       " (u'money', -0.038982037286487123),\n",
       " (u'product', -0.041511033392108883),\n",
       " (u'would', -0.053860148445203121)]"
      ]
     },
     "execution_count": 175,
     "metadata": {},
     "output_type": "execute_result"
    }
   ],
   "source": [
    "# Top ten most negative words\n",
    "word_coefficient_tuples[-10:]"
   ]
  },
  {
   "cell_type": "code",
   "execution_count": 194,
   "metadata": {
    "collapsed": true
   },
   "outputs": [],
   "source": [
    "def logistic_regression_tolerance(feature_matrix, sentiment, initial_coefficients, step_size, tolerance=1e-4):\n",
    "    coefficients = np.array(initial_coefficients)\n",
    "    indicator = (sentiment == 1)\n",
    "    ll =[]\n",
    "    grad = np.ones(initial_coefficients.shape[0])\n",
    "    import pdb; pdb.set_trace()\n",
    "    while min(np.abs(grad)) > tolerance :\n",
    "    \n",
    "        prediction = predict_probability(feature_matrix, coefficients)\n",
    "        grad = (feature_matrix.T.dot((indicator - prediction).T)).T\n",
    "        coefficients += step_size*grad\n",
    "        ll.append(compute_log_likelihood(feature_matrix, sentiment, coefficients))\n",
    "\n",
    "    return coefficients, ll"
   ]
  },
  {
   "cell_type": "code",
   "execution_count": null,
   "metadata": {
    "collapsed": false
   },
   "outputs": [
    {
     "name": "stdout",
     "output_type": "stream",
     "text": [
      "> <ipython-input-194-6e40c57a5a75>(7)logistic_regression_tolerance()\n",
      "-> while min(np.abs(grad)) > tolerance :\n",
      "(Pdb) n\n",
      "> <ipython-input-194-6e40c57a5a75>(9)logistic_regression_tolerance()\n",
      "-> prediction = predict_probability(feature_matrix, coefficients)\n",
      "(Pdb) n\n",
      "> <ipython-input-194-6e40c57a5a75>(10)logistic_regression_tolerance()\n",
      "-> grad = (feature_matrix.T.dot((indicator - prediction).T)).T\n",
      "(Pdb) n\n",
      "> <ipython-input-194-6e40c57a5a75>(11)logistic_regression_tolerance()\n",
      "-> coefficients += step_size*grad\n",
      "(Pdb) n\n",
      "> <ipython-input-194-6e40c57a5a75>(12)logistic_regression_tolerance()\n",
      "-> ll.append(compute_log_likelihood(feature_matrix, sentiment, coefficients))\n",
      "(Pdb) n\n",
      "> <ipython-input-194-6e40c57a5a75>(7)logistic_regression_tolerance()\n",
      "-> while min(np.abs(grad)) > tolerance :\n",
      "(Pdb) n\n",
      "> <ipython-input-194-6e40c57a5a75>(9)logistic_regression_tolerance()\n",
      "-> prediction = predict_probability(feature_matrix, coefficients)\n",
      "(Pdb) min(np.abs(grad))\n",
      "4.0\n",
      "(Pdb) n\n",
      "> <ipython-input-194-6e40c57a5a75>(10)logistic_regression_tolerance()\n",
      "-> grad = (feature_matrix.T.dot((indicator - prediction).T)).T\n",
      "(Pdb) n\n",
      "> <ipython-input-194-6e40c57a5a75>(11)logistic_regression_tolerance()\n",
      "-> coefficients += step_size*grad\n",
      "(Pdb) n\n",
      "> <ipython-input-194-6e40c57a5a75>(12)logistic_regression_tolerance()\n",
      "-> ll.append(compute_log_likelihood(feature_matrix, sentiment, coefficients))\n",
      "(Pdb) n\n",
      "> <ipython-input-194-6e40c57a5a75>(7)logistic_regression_tolerance()\n",
      "-> while min(np.abs(grad)) > tolerance :\n",
      "(Pdb) n\n",
      "> <ipython-input-194-6e40c57a5a75>(9)logistic_regression_tolerance()\n",
      "-> prediction = predict_probability(feature_matrix, coefficients)\n",
      "(Pdb) N\n",
      "*** NameError: name 'N' is not defined\n",
      "(Pdb) N\n",
      "*** NameError: name 'N' is not defined\n",
      "(Pdb) n\n",
      "> <ipython-input-194-6e40c57a5a75>(10)logistic_regression_tolerance()\n",
      "-> grad = (feature_matrix.T.dot((indicator - prediction).T)).T\n",
      "(Pdb) n\n",
      "> <ipython-input-194-6e40c57a5a75>(11)logistic_regression_tolerance()\n",
      "-> coefficients += step_size*grad\n",
      "(Pdb) n\n",
      "> <ipython-input-194-6e40c57a5a75>(12)logistic_regression_tolerance()\n",
      "-> ll.append(compute_log_likelihood(feature_matrix, sentiment, coefficients))\n",
      "(Pdb) n\n",
      "> <ipython-input-194-6e40c57a5a75>(7)logistic_regression_tolerance()\n",
      "-> while min(np.abs(grad)) > tolerance :\n",
      "(Pdb) n\n",
      "> <ipython-input-194-6e40c57a5a75>(9)logistic_regression_tolerance()\n",
      "-> prediction = predict_probability(feature_matrix, coefficients)\n",
      "(Pdb) f\n",
      "*** NameError: name 'f' is not defined\n",
      "(Pdb) c\n"
     ]
    }
   ],
   "source": [
    "step_size = [1e-7,1e-6,1e-5,1e-4]\n",
    "for ss in step_size:\n",
    "    coefficient, ll = logistic_regression_tolerance(feature, label, initial_coefficients, ss, 1e-4)\n",
    "    plt.plot(ll)\n",
    "plt.show()\n",
    "    "
   ]
  },
  {
   "cell_type": "code",
   "execution_count": null,
   "metadata": {
    "collapsed": true
   },
   "outputs": [],
   "source": []
  }
 ],
 "metadata": {
  "kernelspec": {
   "display_name": "Python 2",
   "language": "python",
   "name": "python2"
  },
  "language_info": {
   "codemirror_mode": {
    "name": "ipython",
    "version": 2
   },
   "file_extension": ".py",
   "mimetype": "text/x-python",
   "name": "python",
   "nbconvert_exporter": "python",
   "pygments_lexer": "ipython2",
   "version": "2.7.10"
  }
 },
 "nbformat": 4,
 "nbformat_minor": 0
}
