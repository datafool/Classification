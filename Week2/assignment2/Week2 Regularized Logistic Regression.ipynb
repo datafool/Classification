{
 "cells": [
  {
   "cell_type": "code",
   "execution_count": 147,
   "metadata": {
    "collapsed": true
   },
   "outputs": [],
   "source": [
    "from __future__ import print_function, division, absolute_import\n",
    "import pandas as pd\n",
    "import numpy as np\n",
    "\n",
    "import string\n",
    "\n",
    "import matplotlib.pyplot as plt\n",
    "%matplotlib inline"
   ]
  },
  {
   "cell_type": "code",
   "execution_count": 21,
   "metadata": {
    "collapsed": false
   },
   "outputs": [],
   "source": [
    "pd.set_option('display.max_columns',None)"
   ]
  },
  {
   "cell_type": "code",
   "execution_count": 2,
   "metadata": {
    "collapsed": true
   },
   "outputs": [],
   "source": [
    "def remove_punctuation(text):\n",
    "    return text.translate(None, string.punctuation)"
   ]
  },
  {
   "cell_type": "code",
   "execution_count": 31,
   "metadata": {
    "collapsed": true
   },
   "outputs": [],
   "source": [
    "def get_numpy_array(data, feature_x, feature_y ):\n",
    "    data['ones'] = 1\n",
    "    x = data[['ones'] + feature_x].as_matrix()\n",
    "    y = data[feature_y].as_matrix()\n",
    "    return x, y"
   ]
  },
  {
   "cell_type": "code",
   "execution_count": 4,
   "metadata": {
    "collapsed": true
   },
   "outputs": [],
   "source": [
    "products = pd.read_csv('amazon_baby_subset.csv', index_col=None)"
   ]
  },
  {
   "cell_type": "code",
   "execution_count": 6,
   "metadata": {
    "collapsed": false
   },
   "outputs": [],
   "source": [
    "important_words = pd.read_json('important_words.json')"
   ]
  },
  {
   "cell_type": "code",
   "execution_count": 7,
   "metadata": {
    "collapsed": false
   },
   "outputs": [
    {
     "data": {
      "text/html": [
       "<div>\n",
       "<table border=\"1\" class=\"dataframe\">\n",
       "  <thead>\n",
       "    <tr style=\"text-align: right;\">\n",
       "      <th></th>\n",
       "      <th>0</th>\n",
       "    </tr>\n",
       "  </thead>\n",
       "  <tbody>\n",
       "    <tr>\n",
       "      <th>0</th>\n",
       "      <td>baby</td>\n",
       "    </tr>\n",
       "    <tr>\n",
       "      <th>1</th>\n",
       "      <td>one</td>\n",
       "    </tr>\n",
       "    <tr>\n",
       "      <th>2</th>\n",
       "      <td>great</td>\n",
       "    </tr>\n",
       "    <tr>\n",
       "      <th>3</th>\n",
       "      <td>love</td>\n",
       "    </tr>\n",
       "    <tr>\n",
       "      <th>4</th>\n",
       "      <td>use</td>\n",
       "    </tr>\n",
       "  </tbody>\n",
       "</table>\n",
       "</div>"
      ],
      "text/plain": [
       "       0\n",
       "0   baby\n",
       "1    one\n",
       "2  great\n",
       "3   love\n",
       "4    use"
      ]
     },
     "execution_count": 7,
     "metadata": {},
     "output_type": "execute_result"
    }
   ],
   "source": [
    "important_words.head()"
   ]
  },
  {
   "cell_type": "code",
   "execution_count": 8,
   "metadata": {
    "collapsed": false
   },
   "outputs": [
    {
     "data": {
      "text/html": [
       "<div>\n",
       "<table border=\"1\" class=\"dataframe\">\n",
       "  <thead>\n",
       "    <tr style=\"text-align: right;\">\n",
       "      <th></th>\n",
       "      <th>name</th>\n",
       "      <th>review</th>\n",
       "      <th>rating</th>\n",
       "      <th>sentiment</th>\n",
       "    </tr>\n",
       "  </thead>\n",
       "  <tbody>\n",
       "    <tr>\n",
       "      <th>0</th>\n",
       "      <td>Stop Pacifier Sucking without tears with Thumb...</td>\n",
       "      <td>All of my kids have cried non-stop when I trie...</td>\n",
       "      <td>5</td>\n",
       "      <td>1</td>\n",
       "    </tr>\n",
       "    <tr>\n",
       "      <th>1</th>\n",
       "      <td>Nature's Lullabies Second Year Sticker Calendar</td>\n",
       "      <td>We wanted to get something to keep track of ou...</td>\n",
       "      <td>5</td>\n",
       "      <td>1</td>\n",
       "    </tr>\n",
       "    <tr>\n",
       "      <th>2</th>\n",
       "      <td>Nature's Lullabies Second Year Sticker Calendar</td>\n",
       "      <td>My daughter had her 1st baby over a year ago. ...</td>\n",
       "      <td>5</td>\n",
       "      <td>1</td>\n",
       "    </tr>\n",
       "    <tr>\n",
       "      <th>3</th>\n",
       "      <td>Lamaze Peekaboo, I Love You</td>\n",
       "      <td>One of baby's first and favorite books, and it...</td>\n",
       "      <td>4</td>\n",
       "      <td>1</td>\n",
       "    </tr>\n",
       "    <tr>\n",
       "      <th>4</th>\n",
       "      <td>SoftPlay Peek-A-Boo Where's Elmo A Children's ...</td>\n",
       "      <td>Very cute interactive book! My son loves this ...</td>\n",
       "      <td>5</td>\n",
       "      <td>1</td>\n",
       "    </tr>\n",
       "  </tbody>\n",
       "</table>\n",
       "</div>"
      ],
      "text/plain": [
       "                                                name  \\\n",
       "0  Stop Pacifier Sucking without tears with Thumb...   \n",
       "1    Nature's Lullabies Second Year Sticker Calendar   \n",
       "2    Nature's Lullabies Second Year Sticker Calendar   \n",
       "3                        Lamaze Peekaboo, I Love You   \n",
       "4  SoftPlay Peek-A-Boo Where's Elmo A Children's ...   \n",
       "\n",
       "                                              review  rating  sentiment  \n",
       "0  All of my kids have cried non-stop when I trie...       5          1  \n",
       "1  We wanted to get something to keep track of ou...       5          1  \n",
       "2  My daughter had her 1st baby over a year ago. ...       5          1  \n",
       "3  One of baby's first and favorite books, and it...       4          1  \n",
       "4  Very cute interactive book! My son loves this ...       5          1  "
      ]
     },
     "execution_count": 8,
     "metadata": {},
     "output_type": "execute_result"
    }
   ],
   "source": [
    "products.head()"
   ]
  },
  {
   "cell_type": "code",
   "execution_count": 9,
   "metadata": {
    "collapsed": false
   },
   "outputs": [],
   "source": [
    "products.review.fillna('', inplace=True)"
   ]
  },
  {
   "cell_type": "code",
   "execution_count": 10,
   "metadata": {
    "collapsed": false
   },
   "outputs": [],
   "source": [
    "products['review_clean'] = products['review'].apply(remove_punctuation)"
   ]
  },
  {
   "cell_type": "code",
   "execution_count": 11,
   "metadata": {
    "collapsed": false
   },
   "outputs": [
    {
     "data": {
      "text/html": [
       "<div>\n",
       "<table border=\"1\" class=\"dataframe\">\n",
       "  <thead>\n",
       "    <tr style=\"text-align: right;\">\n",
       "      <th></th>\n",
       "      <th>name</th>\n",
       "      <th>review</th>\n",
       "      <th>rating</th>\n",
       "      <th>sentiment</th>\n",
       "      <th>review_clean</th>\n",
       "    </tr>\n",
       "  </thead>\n",
       "  <tbody>\n",
       "    <tr>\n",
       "      <th>0</th>\n",
       "      <td>Stop Pacifier Sucking without tears with Thumb...</td>\n",
       "      <td>All of my kids have cried non-stop when I trie...</td>\n",
       "      <td>5</td>\n",
       "      <td>1</td>\n",
       "      <td>All of my kids have cried nonstop when I tried...</td>\n",
       "    </tr>\n",
       "    <tr>\n",
       "      <th>1</th>\n",
       "      <td>Nature's Lullabies Second Year Sticker Calendar</td>\n",
       "      <td>We wanted to get something to keep track of ou...</td>\n",
       "      <td>5</td>\n",
       "      <td>1</td>\n",
       "      <td>We wanted to get something to keep track of ou...</td>\n",
       "    </tr>\n",
       "    <tr>\n",
       "      <th>2</th>\n",
       "      <td>Nature's Lullabies Second Year Sticker Calendar</td>\n",
       "      <td>My daughter had her 1st baby over a year ago. ...</td>\n",
       "      <td>5</td>\n",
       "      <td>1</td>\n",
       "      <td>My daughter had her 1st baby over a year ago S...</td>\n",
       "    </tr>\n",
       "    <tr>\n",
       "      <th>3</th>\n",
       "      <td>Lamaze Peekaboo, I Love You</td>\n",
       "      <td>One of baby's first and favorite books, and it...</td>\n",
       "      <td>4</td>\n",
       "      <td>1</td>\n",
       "      <td>One of babys first and favorite books and it i...</td>\n",
       "    </tr>\n",
       "    <tr>\n",
       "      <th>4</th>\n",
       "      <td>SoftPlay Peek-A-Boo Where's Elmo A Children's ...</td>\n",
       "      <td>Very cute interactive book! My son loves this ...</td>\n",
       "      <td>5</td>\n",
       "      <td>1</td>\n",
       "      <td>Very cute interactive book My son loves this b...</td>\n",
       "    </tr>\n",
       "  </tbody>\n",
       "</table>\n",
       "</div>"
      ],
      "text/plain": [
       "                                                name  \\\n",
       "0  Stop Pacifier Sucking without tears with Thumb...   \n",
       "1    Nature's Lullabies Second Year Sticker Calendar   \n",
       "2    Nature's Lullabies Second Year Sticker Calendar   \n",
       "3                        Lamaze Peekaboo, I Love You   \n",
       "4  SoftPlay Peek-A-Boo Where's Elmo A Children's ...   \n",
       "\n",
       "                                              review  rating  sentiment  \\\n",
       "0  All of my kids have cried non-stop when I trie...       5          1   \n",
       "1  We wanted to get something to keep track of ou...       5          1   \n",
       "2  My daughter had her 1st baby over a year ago. ...       5          1   \n",
       "3  One of baby's first and favorite books, and it...       4          1   \n",
       "4  Very cute interactive book! My son loves this ...       5          1   \n",
       "\n",
       "                                        review_clean  \n",
       "0  All of my kids have cried nonstop when I tried...  \n",
       "1  We wanted to get something to keep track of ou...  \n",
       "2  My daughter had her 1st baby over a year ago S...  \n",
       "3  One of babys first and favorite books and it i...  \n",
       "4  Very cute interactive book My son loves this b...  "
      ]
     },
     "execution_count": 11,
     "metadata": {},
     "output_type": "execute_result"
    }
   ],
   "source": [
    "products.head()"
   ]
  },
  {
   "cell_type": "code",
   "execution_count": 17,
   "metadata": {
    "collapsed": false
   },
   "outputs": [],
   "source": [
    "## counting the occurance of important words in clean review\n",
    "for iw in important_words[0].values:\n",
    "    products[iw] = products.review_clean.apply(lambda c : c.split(' ').count(iw))"
   ]
  },
  {
   "cell_type": "code",
   "execution_count": 22,
   "metadata": {
    "collapsed": false
   },
   "outputs": [
    {
     "data": {
      "text/html": [
       "<div>\n",
       "<table border=\"1\" class=\"dataframe\">\n",
       "  <thead>\n",
       "    <tr style=\"text-align: right;\">\n",
       "      <th></th>\n",
       "      <th>name</th>\n",
       "      <th>review</th>\n",
       "      <th>rating</th>\n",
       "      <th>sentiment</th>\n",
       "      <th>review_clean</th>\n",
       "      <th>baby</th>\n",
       "      <th>one</th>\n",
       "      <th>great</th>\n",
       "      <th>love</th>\n",
       "      <th>use</th>\n",
       "      <th>would</th>\n",
       "      <th>like</th>\n",
       "      <th>easy</th>\n",
       "      <th>little</th>\n",
       "      <th>seat</th>\n",
       "      <th>old</th>\n",
       "      <th>well</th>\n",
       "      <th>get</th>\n",
       "      <th>also</th>\n",
       "      <th>really</th>\n",
       "      <th>son</th>\n",
       "      <th>time</th>\n",
       "      <th>bought</th>\n",
       "      <th>product</th>\n",
       "      <th>good</th>\n",
       "      <th>daughter</th>\n",
       "      <th>much</th>\n",
       "      <th>loves</th>\n",
       "      <th>stroller</th>\n",
       "      <th>put</th>\n",
       "      <th>months</th>\n",
       "      <th>car</th>\n",
       "      <th>still</th>\n",
       "      <th>back</th>\n",
       "      <th>used</th>\n",
       "      <th>recommend</th>\n",
       "      <th>first</th>\n",
       "      <th>even</th>\n",
       "      <th>perfect</th>\n",
       "      <th>nice</th>\n",
       "      <th>bag</th>\n",
       "      <th>two</th>\n",
       "      <th>using</th>\n",
       "      <th>got</th>\n",
       "      <th>fit</th>\n",
       "      <th>around</th>\n",
       "      <th>diaper</th>\n",
       "      <th>enough</th>\n",
       "      <th>month</th>\n",
       "      <th>price</th>\n",
       "      <th>go</th>\n",
       "      <th>could</th>\n",
       "      <th>soft</th>\n",
       "      <th>since</th>\n",
       "      <th>buy</th>\n",
       "      <th>room</th>\n",
       "      <th>works</th>\n",
       "      <th>made</th>\n",
       "      <th>child</th>\n",
       "      <th>keep</th>\n",
       "      <th>size</th>\n",
       "      <th>small</th>\n",
       "      <th>need</th>\n",
       "      <th>year</th>\n",
       "      <th>big</th>\n",
       "      <th>make</th>\n",
       "      <th>take</th>\n",
       "      <th>easily</th>\n",
       "      <th>think</th>\n",
       "      <th>crib</th>\n",
       "      <th>clean</th>\n",
       "      <th>way</th>\n",
       "      <th>quality</th>\n",
       "      <th>thing</th>\n",
       "      <th>better</th>\n",
       "      <th>without</th>\n",
       "      <th>set</th>\n",
       "      <th>new</th>\n",
       "      <th>every</th>\n",
       "      <th>cute</th>\n",
       "      <th>best</th>\n",
       "      <th>bottles</th>\n",
       "      <th>work</th>\n",
       "      <th>purchased</th>\n",
       "      <th>right</th>\n",
       "      <th>lot</th>\n",
       "      <th>side</th>\n",
       "      <th>happy</th>\n",
       "      <th>comfortable</th>\n",
       "      <th>toy</th>\n",
       "      <th>able</th>\n",
       "      <th>kids</th>\n",
       "      <th>bit</th>\n",
       "      <th>night</th>\n",
       "      <th>long</th>\n",
       "      <th>fits</th>\n",
       "      <th>see</th>\n",
       "      <th>us</th>\n",
       "      <th>another</th>\n",
       "      <th>play</th>\n",
       "      <th>day</th>\n",
       "      <th>money</th>\n",
       "      <th>monitor</th>\n",
       "      <th>tried</th>\n",
       "      <th>thought</th>\n",
       "      <th>never</th>\n",
       "      <th>item</th>\n",
       "      <th>hard</th>\n",
       "      <th>plastic</th>\n",
       "      <th>however</th>\n",
       "      <th>disappointed</th>\n",
       "      <th>reviews</th>\n",
       "      <th>something</th>\n",
       "      <th>going</th>\n",
       "      <th>pump</th>\n",
       "      <th>bottle</th>\n",
       "      <th>cup</th>\n",
       "      <th>waste</th>\n",
       "      <th>return</th>\n",
       "      <th>amazon</th>\n",
       "      <th>different</th>\n",
       "      <th>top</th>\n",
       "      <th>want</th>\n",
       "      <th>problem</th>\n",
       "      <th>know</th>\n",
       "      <th>water</th>\n",
       "      <th>try</th>\n",
       "      <th>received</th>\n",
       "      <th>sure</th>\n",
       "      <th>times</th>\n",
       "      <th>chair</th>\n",
       "      <th>find</th>\n",
       "      <th>hold</th>\n",
       "      <th>gate</th>\n",
       "      <th>open</th>\n",
       "      <th>bottom</th>\n",
       "      <th>away</th>\n",
       "      <th>actually</th>\n",
       "      <th>cheap</th>\n",
       "      <th>worked</th>\n",
       "      <th>getting</th>\n",
       "      <th>ordered</th>\n",
       "      <th>came</th>\n",
       "      <th>milk</th>\n",
       "      <th>bad</th>\n",
       "      <th>part</th>\n",
       "      <th>worth</th>\n",
       "      <th>found</th>\n",
       "      <th>cover</th>\n",
       "      <th>many</th>\n",
       "      <th>design</th>\n",
       "      <th>looking</th>\n",
       "      <th>weeks</th>\n",
       "      <th>say</th>\n",
       "      <th>wanted</th>\n",
       "      <th>look</th>\n",
       "      <th>place</th>\n",
       "      <th>purchase</th>\n",
       "      <th>looks</th>\n",
       "      <th>second</th>\n",
       "      <th>piece</th>\n",
       "      <th>box</th>\n",
       "      <th>pretty</th>\n",
       "      <th>trying</th>\n",
       "      <th>difficult</th>\n",
       "      <th>together</th>\n",
       "      <th>though</th>\n",
       "      <th>give</th>\n",
       "      <th>started</th>\n",
       "      <th>anything</th>\n",
       "      <th>last</th>\n",
       "      <th>company</th>\n",
       "      <th>come</th>\n",
       "      <th>returned</th>\n",
       "      <th>maybe</th>\n",
       "      <th>took</th>\n",
       "      <th>broke</th>\n",
       "      <th>makes</th>\n",
       "      <th>stay</th>\n",
       "      <th>instead</th>\n",
       "      <th>idea</th>\n",
       "      <th>head</th>\n",
       "      <th>said</th>\n",
       "      <th>less</th>\n",
       "      <th>went</th>\n",
       "      <th>working</th>\n",
       "      <th>high</th>\n",
       "      <th>unit</th>\n",
       "      <th>seems</th>\n",
       "      <th>picture</th>\n",
       "      <th>completely</th>\n",
       "      <th>wish</th>\n",
       "      <th>buying</th>\n",
       "      <th>babies</th>\n",
       "      <th>won</th>\n",
       "      <th>tub</th>\n",
       "      <th>almost</th>\n",
       "      <th>either</th>\n",
       "    </tr>\n",
       "  </thead>\n",
       "  <tbody>\n",
       "    <tr>\n",
       "      <th>0</th>\n",
       "      <td>Stop Pacifier Sucking without tears with Thumb...</td>\n",
       "      <td>All of my kids have cried non-stop when I trie...</td>\n",
       "      <td>5</td>\n",
       "      <td>1</td>\n",
       "      <td>All of my kids have cried nonstop when I tried...</td>\n",
       "      <td>0</td>\n",
       "      <td>0</td>\n",
       "      <td>1</td>\n",
       "      <td>0</td>\n",
       "      <td>0</td>\n",
       "      <td>0</td>\n",
       "      <td>0</td>\n",
       "      <td>1</td>\n",
       "      <td>0</td>\n",
       "      <td>0</td>\n",
       "      <td>0</td>\n",
       "      <td>0</td>\n",
       "      <td>0</td>\n",
       "      <td>0</td>\n",
       "      <td>0</td>\n",
       "      <td>0</td>\n",
       "      <td>0</td>\n",
       "      <td>0</td>\n",
       "      <td>0</td>\n",
       "      <td>0</td>\n",
       "      <td>0</td>\n",
       "      <td>0</td>\n",
       "      <td>0</td>\n",
       "      <td>0</td>\n",
       "      <td>0</td>\n",
       "      <td>0</td>\n",
       "      <td>0</td>\n",
       "      <td>0</td>\n",
       "      <td>0</td>\n",
       "      <td>0</td>\n",
       "      <td>0</td>\n",
       "      <td>0</td>\n",
       "      <td>0</td>\n",
       "      <td>0</td>\n",
       "      <td>0</td>\n",
       "      <td>0</td>\n",
       "      <td>0</td>\n",
       "      <td>0</td>\n",
       "      <td>0</td>\n",
       "      <td>0</td>\n",
       "      <td>0</td>\n",
       "      <td>0</td>\n",
       "      <td>0</td>\n",
       "      <td>0</td>\n",
       "      <td>0</td>\n",
       "      <td>0</td>\n",
       "      <td>0</td>\n",
       "      <td>0</td>\n",
       "      <td>0</td>\n",
       "      <td>1</td>\n",
       "      <td>0</td>\n",
       "      <td>0</td>\n",
       "      <td>0</td>\n",
       "      <td>0</td>\n",
       "      <td>0</td>\n",
       "      <td>0</td>\n",
       "      <td>0</td>\n",
       "      <td>0</td>\n",
       "      <td>0</td>\n",
       "      <td>0</td>\n",
       "      <td>0</td>\n",
       "      <td>0</td>\n",
       "      <td>0</td>\n",
       "      <td>0</td>\n",
       "      <td>0</td>\n",
       "      <td>0</td>\n",
       "      <td>1</td>\n",
       "      <td>0</td>\n",
       "      <td>0</td>\n",
       "      <td>0</td>\n",
       "      <td>0</td>\n",
       "      <td>0</td>\n",
       "      <td>0</td>\n",
       "      <td>0</td>\n",
       "      <td>0</td>\n",
       "      <td>0</td>\n",
       "      <td>0</td>\n",
       "      <td>1</td>\n",
       "      <td>0</td>\n",
       "      <td>0</td>\n",
       "      <td>0</td>\n",
       "      <td>0</td>\n",
       "      <td>0</td>\n",
       "      <td>0</td>\n",
       "      <td>0</td>\n",
       "      <td>0</td>\n",
       "      <td>2</td>\n",
       "      <td>0</td>\n",
       "      <td>0</td>\n",
       "      <td>0</td>\n",
       "      <td>0</td>\n",
       "      <td>0</td>\n",
       "      <td>0</td>\n",
       "      <td>0</td>\n",
       "      <td>0</td>\n",
       "      <td>0</td>\n",
       "      <td>0</td>\n",
       "      <td>0</td>\n",
       "      <td>1</td>\n",
       "      <td>0</td>\n",
       "      <td>0</td>\n",
       "      <td>0</td>\n",
       "      <td>0</td>\n",
       "      <td>0</td>\n",
       "      <td>0</td>\n",
       "      <td>0</td>\n",
       "      <td>0</td>\n",
       "      <td>0</td>\n",
       "      <td>1</td>\n",
       "      <td>0</td>\n",
       "      <td>0</td>\n",
       "      <td>0</td>\n",
       "      <td>0</td>\n",
       "      <td>0</td>\n",
       "      <td>0</td>\n",
       "      <td>0</td>\n",
       "      <td>0</td>\n",
       "      <td>0</td>\n",
       "      <td>0</td>\n",
       "      <td>0</td>\n",
       "      <td>0</td>\n",
       "      <td>0</td>\n",
       "      <td>0</td>\n",
       "      <td>0</td>\n",
       "      <td>0</td>\n",
       "      <td>0</td>\n",
       "      <td>0</td>\n",
       "      <td>0</td>\n",
       "      <td>0</td>\n",
       "      <td>0</td>\n",
       "      <td>0</td>\n",
       "      <td>0</td>\n",
       "      <td>0</td>\n",
       "      <td>0</td>\n",
       "      <td>0</td>\n",
       "      <td>0</td>\n",
       "      <td>0</td>\n",
       "      <td>0</td>\n",
       "      <td>0</td>\n",
       "      <td>0</td>\n",
       "      <td>1</td>\n",
       "      <td>0</td>\n",
       "      <td>1</td>\n",
       "      <td>0</td>\n",
       "      <td>1</td>\n",
       "      <td>0</td>\n",
       "      <td>0</td>\n",
       "      <td>0</td>\n",
       "      <td>0</td>\n",
       "      <td>0</td>\n",
       "      <td>0</td>\n",
       "      <td>0</td>\n",
       "      <td>0</td>\n",
       "      <td>0</td>\n",
       "      <td>0</td>\n",
       "      <td>0</td>\n",
       "      <td>0</td>\n",
       "      <td>0</td>\n",
       "      <td>0</td>\n",
       "      <td>0</td>\n",
       "      <td>0</td>\n",
       "      <td>0</td>\n",
       "      <td>0</td>\n",
       "      <td>0</td>\n",
       "      <td>0</td>\n",
       "      <td>0</td>\n",
       "      <td>0</td>\n",
       "      <td>0</td>\n",
       "      <td>0</td>\n",
       "      <td>0</td>\n",
       "      <td>0</td>\n",
       "      <td>0</td>\n",
       "      <td>0</td>\n",
       "      <td>0</td>\n",
       "      <td>0</td>\n",
       "      <td>0</td>\n",
       "      <td>0</td>\n",
       "      <td>0</td>\n",
       "      <td>0</td>\n",
       "      <td>0</td>\n",
       "      <td>0</td>\n",
       "      <td>0</td>\n",
       "      <td>0</td>\n",
       "      <td>0</td>\n",
       "      <td>0</td>\n",
       "      <td>0</td>\n",
       "      <td>0</td>\n",
       "      <td>0</td>\n",
       "      <td>0</td>\n",
       "      <td>0</td>\n",
       "      <td>0</td>\n",
       "      <td>0</td>\n",
       "      <td>0</td>\n",
       "    </tr>\n",
       "  </tbody>\n",
       "</table>\n",
       "</div>"
      ],
      "text/plain": [
       "                                                name  \\\n",
       "0  Stop Pacifier Sucking without tears with Thumb...   \n",
       "\n",
       "                                              review  rating  sentiment  \\\n",
       "0  All of my kids have cried non-stop when I trie...       5          1   \n",
       "\n",
       "                                        review_clean  baby  one  great  love  \\\n",
       "0  All of my kids have cried nonstop when I tried...     0    0      1     0   \n",
       "\n",
       "   use  would  like  easy  little  seat  old  well  get  also  really  son  \\\n",
       "0    0      0     0     1       0     0    0     0    0     0       0    0   \n",
       "\n",
       "   time  bought  product  good  daughter  much  loves  stroller  put  months  \\\n",
       "0     0       0        0     0         0     0      0         0    0       0   \n",
       "\n",
       "   car  still  back  used  recommend  first  even  perfect  nice  bag  two  \\\n",
       "0    0      0     0     0          0      0     0        0     0    0    0   \n",
       "\n",
       "   using  got  fit  around  diaper  enough  month  price  go  could  soft  \\\n",
       "0      0    0    0       0       0       0      0      0   0      0     0   \n",
       "\n",
       "   since  buy  room  works  made  child  keep  size  small  need  year  big  \\\n",
       "0      0    1     0      0     0      0     0     0      0     0     0    0   \n",
       "\n",
       "   make  take  easily  think  crib  clean  way  quality  thing  better  \\\n",
       "0     0     0       0      0     0      0    1        0      0       0   \n",
       "\n",
       "   without  set  new  every  cute  best  bottles  work  purchased  right  lot  \\\n",
       "0        0    0    0      0     0     0        0     1          0      0    0   \n",
       "\n",
       "   side  happy  comfortable  toy  able  kids  bit  night  long  fits  see  us  \\\n",
       "0     0      0            0    0     0     2    0      0     0     0    0   0   \n",
       "\n",
       "   another  play  day  money  monitor  tried  thought  never  item  hard  \\\n",
       "0        0     0    0      0        0      1        0      0     0     0   \n",
       "\n",
       "   plastic  however  disappointed  reviews  something  going  pump  bottle  \\\n",
       "0        0        0             0        0          0      1     0       0   \n",
       "\n",
       "   cup  waste  return  amazon  different  top  want  problem  know  water  \\\n",
       "0    0      0       0       0          0    0     0        0     0      0   \n",
       "\n",
       "   try  received  sure  times  chair  find  hold  gate  open  bottom  away  \\\n",
       "0    0         0     0      0      0     0     0     0     0       0     0   \n",
       "\n",
       "   actually  cheap  worked  getting  ordered  came  milk  bad  part  worth  \\\n",
       "0         0      0       0        0        0     0     0    0     1      0   \n",
       "\n",
       "   found  cover  many  design  looking  weeks  say  wanted  look  place  \\\n",
       "0      1      0     1       0        0      0    0       0     0      0   \n",
       "\n",
       "   purchase  looks  second  piece  box  pretty  trying  difficult  together  \\\n",
       "0         0      0       0      0    0       0       0          0         0   \n",
       "\n",
       "   though  give  started  anything  last  company  come  returned  maybe  \\\n",
       "0       0     0        0         0     0        0     0         0      0   \n",
       "\n",
       "   took  broke  makes  stay  instead  idea  head  said  less  went  working  \\\n",
       "0     0      0      0     0        0     0     0     0     0     0        0   \n",
       "\n",
       "   high  unit  seems  picture  completely  wish  buying  babies  won  tub  \\\n",
       "0     0     0      0        0           0     0       0       0    0    0   \n",
       "\n",
       "   almost  either  \n",
       "0       0       0  "
      ]
     },
     "execution_count": 22,
     "metadata": {},
     "output_type": "execute_result"
    }
   ],
   "source": [
    "products.head(1)"
   ]
  },
  {
   "cell_type": "code",
   "execution_count": 23,
   "metadata": {
    "collapsed": true
   },
   "outputs": [],
   "source": [
    "train_index = pd.read_json('module-4-assignment-train-idx.json')[0].values"
   ]
  },
  {
   "cell_type": "code",
   "execution_count": 24,
   "metadata": {
    "collapsed": true
   },
   "outputs": [],
   "source": [
    "valid_index = pd.read_json('module-4-assignment-validation-idx.json')[0].values"
   ]
  },
  {
   "cell_type": "code",
   "execution_count": 30,
   "metadata": {
    "collapsed": true
   },
   "outputs": [],
   "source": [
    "train_data = products.iloc[train_index]\n",
    "valid_data = products.iloc[valid_index]"
   ]
  },
  {
   "cell_type": "code",
   "execution_count": 42,
   "metadata": {
    "collapsed": false
   },
   "outputs": [
    {
     "name": "stderr",
     "output_type": "stream",
     "text": [
      "C:\\Anaconda\\lib\\site-packages\\ipykernel\\__main__.py:2: SettingWithCopyWarning: \n",
      "A value is trying to be set on a copy of a slice from a DataFrame.\n",
      "Try using .loc[row_indexer,col_indexer] = value instead\n",
      "\n",
      "See the caveats in the documentation: http://pandas.pydata.org/pandas-docs/stable/indexing.html#indexing-view-versus-copy\n",
      "  from ipykernel import kernelapp as app\n"
     ]
    }
   ],
   "source": [
    "feature_matrix_train, sentiment_train = get_numpy_array(train_data, important_words[0].values.tolist(), 'sentiment')"
   ]
  },
  {
   "cell_type": "code",
   "execution_count": 43,
   "metadata": {
    "collapsed": false
   },
   "outputs": [
    {
     "name": "stderr",
     "output_type": "stream",
     "text": [
      "C:\\Anaconda\\lib\\site-packages\\ipykernel\\__main__.py:2: SettingWithCopyWarning: \n",
      "A value is trying to be set on a copy of a slice from a DataFrame.\n",
      "Try using .loc[row_indexer,col_indexer] = value instead\n",
      "\n",
      "See the caveats in the documentation: http://pandas.pydata.org/pandas-docs/stable/indexing.html#indexing-view-versus-copy\n",
      "  from ipykernel import kernelapp as app\n"
     ]
    }
   ],
   "source": [
    "feature_matrix_valid, sentiment_valid = get_numpy_array(valid_data, important_words[0].values.tolist(), 'sentiment')"
   ]
  },
  {
   "cell_type": "code",
   "execution_count": 44,
   "metadata": {
    "collapsed": true
   },
   "outputs": [],
   "source": [
    "def get_probability(x, w):\n",
    "    return 1/(1 + np.exp(-x.dot(w)))"
   ]
  },
  {
   "cell_type": "code",
   "execution_count": 58,
   "metadata": {
    "collapsed": false
   },
   "outputs": [],
   "source": [
    "def get_indicator_value(y):\n",
    "    return  y == 1"
   ]
  },
  {
   "cell_type": "code",
   "execution_count": 79,
   "metadata": {
    "collapsed": true
   },
   "outputs": [],
   "source": [
    "def get_error(x, y, w):\n",
    "    return (get_indicator_value(y) - get_probability(x,w))"
   ]
  },
  {
   "cell_type": "code",
   "execution_count": 76,
   "metadata": {
    "collapsed": true
   },
   "outputs": [],
   "source": [
    "def get_gradient(x, y, initial_coefficient, l2_penalty):\n",
    "    error = get_error(x,y, initial_coefficient)\n",
    "    grad  = (x.T).dot(error)\n",
    "    l2_term = l2_penalty*initial_coefficient[1:]\n",
    "    grad[1:] = grad[1:] - 2*l2_term\n",
    "    return grad"
   ]
  },
  {
   "cell_type": "code",
   "execution_count": 85,
   "metadata": {
    "collapsed": true
   },
   "outputs": [],
   "source": [
    "def get_log_likelihood(x, y, initial_coefficients, l2_penalty):\n",
    "    indicator = get_indicator_value(y)\n",
    "    ll = (indicator - 1).dot((x.dot(initial_coefficients).T)) - sum(np.log(1 + np.exp(-x.dot(initial_coefficients))))\n",
    "    ll = ll - l2_penalty*(initial_coefficients.dot(initial_coefficients.T))\n",
    "                             \n",
    "    return ll"
   ]
  },
  {
   "cell_type": "code",
   "execution_count": 106,
   "metadata": {
    "collapsed": true
   },
   "outputs": [],
   "source": [
    "def logistics_regression_with_l2(feature_matrix, sentiment, intial_coefficients, step_size, l2_penalty, max_iter):\n",
    "    coefficients = intial_coefficients\n",
    "    ll = [get_log_likelihood(feature_matrix, sentiment, intial_coefficients, l2_penalty)]\n",
    "    \n",
    "    for i in range(max_iter):\n",
    "        grad = get_gradient(feature_matrix, sentiment, coefficients, l2_penalty)\n",
    "        coefficients = coefficients + step_size*grad\n",
    "        ll.append(get_log_likelihood(feature_matrix, sentiment, coefficients, l2_penalty))\n",
    "        if i % 50 ==0:\n",
    "            print(ll[i])\n",
    "    return coefficients"
   ]
  },
  {
   "cell_type": "code",
   "execution_count": 104,
   "metadata": {
    "collapsed": true
   },
   "outputs": [],
   "source": [
    "l2_penalty = [0, 4, 10, 1e2, 1e3, 1e5]\n",
    "initial_coefficients = np.zeros(feature_matrix_train.shape[1])\n",
    "step_size = 5e-6\n",
    "max_iter = 501"
   ]
  },
  {
   "cell_type": "code",
   "execution_count": 109,
   "metadata": {
    "collapsed": false
   },
   "outputs": [
    {
     "name": "stdout",
     "output_type": "stream",
     "text": [
      "-29362.4077157\n",
      "-24559.6802358\n",
      "-22818.9540347\n",
      "-21885.1749373\n",
      "-21292.9724952\n",
      "-20880.780778\n",
      "-20576.2598092\n",
      "-20341.7477234\n",
      "-20155.5476972\n",
      "-20004.207918\n",
      "-19878.9086615\n",
      "First Compelted\n",
      "-29362.4077157\n",
      "-24567.3565756\n",
      "-22837.2832581\n",
      "-21913.5979537\n",
      "-21330.645708\n",
      "-20926.9063632\n",
      "-20630.1322616\n",
      "-20402.7503937\n",
      "-20223.1402779\n",
      "-20077.913939\n",
      "-19958.3048871\n",
      "Second Compelted\n",
      "-29362.4077157\n",
      "-24578.8361767\n",
      "-22864.6140126\n",
      "-21955.8595741\n",
      "-21386.5062206\n",
      "-20995.114498\n",
      "-20709.5847376\n",
      "-20492.4848515\n",
      "-20322.315121\n",
      "-20185.7885269\n",
      "-20074.2228193\n",
      "Third Compelted\n",
      "-29362.4077157\n",
      "-24746.1218138\n",
      "-23252.2078526\n",
      "-22539.8997679\n",
      "-22139.6853629\n",
      "-21893.4239098\n",
      "-21732.8091851\n",
      "-21623.7180945\n",
      "-21547.3785489\n",
      "-21492.7253841\n",
      "-21452.8889559\n",
      "Fourth Compelted\n",
      "-29362.4077157\n",
      "-26013.908939\n",
      "-25617.7940143\n",
      "-25549.9863019\n",
      "-25536.3366016\n",
      "-25533.3053511\n",
      "-25532.5839042\n",
      "-25532.4030627\n",
      "-25532.3559042\n",
      "-25532.3432269\n",
      "-25532.3397374\n",
      "Fifth Compelted\n",
      "-29362.4077157\n",
      "-29281.9861264\n",
      "-29283.9021759\n",
      "-29284.070186\n",
      "-29284.0843152\n",
      "-29284.0854993\n",
      "-29284.0855985\n",
      "-29284.0856069\n",
      "-29284.0856076\n",
      "-29284.0856076\n",
      "-29284.0856076\n",
      "Sixth Compelted\n"
     ]
    }
   ],
   "source": [
    "coefficients_0_penalty = logistics_regression_with_l2(feature_matrix_train, sentiment_train, initial_coefficients, \n",
    "                                                      step_size, l2_penalty[0], max_iter)\n",
    "print(\"First Compelted\")\n",
    "coefficients_4_penalty = logistics_regression_with_l2(feature_matrix_train, sentiment_train, initial_coefficients, \n",
    "                                                      step_size, l2_penalty[1], max_iter)\n",
    "print(\"Second Compelted\")\n",
    "coefficients_10_penalty = logistics_regression_with_l2(feature_matrix_train, sentiment_train, initial_coefficients, \n",
    "                                                      step_size, l2_penalty[2], max_iter)\n",
    "print(\"Third Compelted\")\n",
    "coefficients_1e2_penalty = logistics_regression_with_l2(feature_matrix_train, sentiment_train, initial_coefficients, \n",
    "                                                      step_size, l2_penalty[3], max_iter)\n",
    "print(\"Fourth Compelted\")\n",
    "coefficients_1e3_penalty = logistics_regression_with_l2(feature_matrix_train, sentiment_train, initial_coefficients, \n",
    "                                                      step_size, l2_penalty[4], max_iter)\n",
    "print(\"Fifth Compelted\")\n",
    "coefficients_1e5_penalty = logistics_regression_with_l2(feature_matrix_train, sentiment_train, initial_coefficients, \n",
    "                                                      step_size, l2_penalty[5], max_iter)\n",
    "print(\"Sixth Compelted\")"
   ]
  },
  {
   "cell_type": "code",
   "execution_count": 112,
   "metadata": {
    "collapsed": false
   },
   "outputs": [],
   "source": [
    "coefficients_table = pd.DataFrame({'words':important_words[0].values, 'cofficent_0':coefficients_0_penalty[1:],\n",
    "                                 'coefficient_4': coefficients_4_penalty[1:], 'coefficient_10': coefficients_10_penalty[1:],\n",
    "                                 'coefficient_1e2': coefficients_1e2_penalty[1:], 'coefficient_1e3': coefficients_1e3_penalty[1:],\n",
    "                                 'cofficient_1e5': coefficients_1e5_penalty[1:]})"
   ]
  },
  {
   "cell_type": "code",
   "execution_count": 114,
   "metadata": {
    "collapsed": false
   },
   "outputs": [],
   "source": [
    "coefficients_table = coefficients_table[['words','cofficent_0', 'coefficient_4', 'coefficient_10', 'coefficient_1e2',\n",
    "                                      'coefficient_1e3', 'cofficient_1e5'  ]]"
   ]
  },
  {
   "cell_type": "code",
   "execution_count": 118,
   "metadata": {
    "collapsed": false
   },
   "outputs": [],
   "source": [
    "coefficients_table.sort_values('cofficent_0', inplace=True)"
   ]
  },
  {
   "cell_type": "code",
   "execution_count": 130,
   "metadata": {
    "collapsed": false
   },
   "outputs": [
    {
     "name": "stdout",
     "output_type": "stream",
     "text": [
      "Most Negative Words\n"
     ]
    },
    {
     "data": {
      "text/plain": [
       "[u'disappointed', u'money', u'return', u'waste', u'returned']"
      ]
     },
     "execution_count": 130,
     "metadata": {},
     "output_type": "execute_result"
    }
   ],
   "source": [
    "print(\"Most Negative Words\")\n",
    "coefficients_table.head(5)['words'].values.tolist()"
   ]
  },
  {
   "cell_type": "code",
   "execution_count": 129,
   "metadata": {
    "collapsed": false
   },
   "outputs": [
    {
     "name": "stdout",
     "output_type": "stream",
     "text": [
      "Most Positive Words\n"
     ]
    },
    {
     "data": {
      "text/plain": [
       "[u'great', u'perfect', u'easy', u'loves', u'love']"
      ]
     },
     "execution_count": 129,
     "metadata": {},
     "output_type": "execute_result"
    }
   ],
   "source": [
    "print(\"Most Positive Words\")\n",
    "coefficients_table.tail(5)['words'].values.tolist()"
   ]
  },
  {
   "cell_type": "code",
   "execution_count": 131,
   "metadata": {
    "collapsed": true
   },
   "outputs": [],
   "source": [
    "selected_words = coefficients_table.head(5)['words'].values.tolist() + coefficients_table.tail(5)['words'].values.tolist()"
   ]
  },
  {
   "cell_type": "code",
   "execution_count": 132,
   "metadata": {
    "collapsed": false
   },
   "outputs": [
    {
     "data": {
      "text/plain": [
       "[u'disappointed',\n",
       " u'money',\n",
       " u'return',\n",
       " u'waste',\n",
       " u'returned',\n",
       " u'great',\n",
       " u'perfect',\n",
       " u'easy',\n",
       " u'loves',\n",
       " u'love']"
      ]
     },
     "execution_count": 132,
     "metadata": {},
     "output_type": "execute_result"
    }
   ],
   "source": [
    "selected_words"
   ]
  },
  {
   "cell_type": "code",
   "execution_count": 134,
   "metadata": {
    "collapsed": false
   },
   "outputs": [],
   "source": [
    "coefficients_needed = coefficients_table[coefficients_table.words.isin(selected_words)]"
   ]
  },
  {
   "cell_type": "code",
   "execution_count": 135,
   "metadata": {
    "collapsed": false
   },
   "outputs": [
    {
     "data": {
      "text/html": [
       "<div>\n",
       "<table border=\"1\" class=\"dataframe\">\n",
       "  <thead>\n",
       "    <tr style=\"text-align: right;\">\n",
       "      <th></th>\n",
       "      <th>words</th>\n",
       "      <th>cofficent_0</th>\n",
       "      <th>coefficient_4</th>\n",
       "      <th>coefficient_10</th>\n",
       "      <th>coefficient_1e2</th>\n",
       "      <th>coefficient_1e3</th>\n",
       "      <th>cofficient_1e5</th>\n",
       "    </tr>\n",
       "  </thead>\n",
       "  <tbody>\n",
       "    <tr>\n",
       "      <th>105</th>\n",
       "      <td>disappointed</td>\n",
       "      <td>-0.955437</td>\n",
       "      <td>-0.946980</td>\n",
       "      <td>-0.934518</td>\n",
       "      <td>-0.775625</td>\n",
       "      <td>-0.266095</td>\n",
       "      <td>-0.004013</td>\n",
       "    </tr>\n",
       "    <tr>\n",
       "      <th>96</th>\n",
       "      <td>money</td>\n",
       "      <td>-0.768793</td>\n",
       "      <td>-0.762734</td>\n",
       "      <td>-0.753818</td>\n",
       "      <td>-0.641406</td>\n",
       "      <td>-0.275883</td>\n",
       "      <td>-0.005487</td>\n",
       "    </tr>\n",
       "    <tr>\n",
       "      <th>113</th>\n",
       "      <td>return</td>\n",
       "      <td>-0.742085</td>\n",
       "      <td>-0.735502</td>\n",
       "      <td>-0.725807</td>\n",
       "      <td>-0.602646</td>\n",
       "      <td>-0.215199</td>\n",
       "      <td>-0.003730</td>\n",
       "    </tr>\n",
       "    <tr>\n",
       "      <th>112</th>\n",
       "      <td>waste</td>\n",
       "      <td>-0.617809</td>\n",
       "      <td>-0.612475</td>\n",
       "      <td>-0.604620</td>\n",
       "      <td>-0.505189</td>\n",
       "      <td>-0.190631</td>\n",
       "      <td>-0.003345</td>\n",
       "    </tr>\n",
       "    <tr>\n",
       "      <th>168</th>\n",
       "      <td>returned</td>\n",
       "      <td>-0.572707</td>\n",
       "      <td>-0.567518</td>\n",
       "      <td>-0.559870</td>\n",
       "      <td>-0.462056</td>\n",
       "      <td>-0.150021</td>\n",
       "      <td>-0.002225</td>\n",
       "    </tr>\n",
       "    <tr>\n",
       "      <th>2</th>\n",
       "      <td>great</td>\n",
       "      <td>0.801625</td>\n",
       "      <td>0.796897</td>\n",
       "      <td>0.789935</td>\n",
       "      <td>0.701425</td>\n",
       "      <td>0.376012</td>\n",
       "      <td>0.008950</td>\n",
       "    </tr>\n",
       "    <tr>\n",
       "      <th>33</th>\n",
       "      <td>perfect</td>\n",
       "      <td>0.835693</td>\n",
       "      <td>0.828555</td>\n",
       "      <td>0.818038</td>\n",
       "      <td>0.684143</td>\n",
       "      <td>0.250614</td>\n",
       "      <td>0.003989</td>\n",
       "    </tr>\n",
       "    <tr>\n",
       "      <th>7</th>\n",
       "      <td>easy</td>\n",
       "      <td>0.984559</td>\n",
       "      <td>0.977600</td>\n",
       "      <td>0.967362</td>\n",
       "      <td>0.838245</td>\n",
       "      <td>0.401904</td>\n",
       "      <td>0.008808</td>\n",
       "    </tr>\n",
       "    <tr>\n",
       "      <th>22</th>\n",
       "      <td>loves</td>\n",
       "      <td>1.052484</td>\n",
       "      <td>1.043903</td>\n",
       "      <td>1.031265</td>\n",
       "      <td>0.870794</td>\n",
       "      <td>0.345870</td>\n",
       "      <td>0.006150</td>\n",
       "    </tr>\n",
       "    <tr>\n",
       "      <th>3</th>\n",
       "      <td>love</td>\n",
       "      <td>1.058554</td>\n",
       "      <td>1.050856</td>\n",
       "      <td>1.039529</td>\n",
       "      <td>0.896644</td>\n",
       "      <td>0.418354</td>\n",
       "      <td>0.009042</td>\n",
       "    </tr>\n",
       "  </tbody>\n",
       "</table>\n",
       "</div>"
      ],
      "text/plain": [
       "            words  cofficent_0  coefficient_4  coefficient_10  \\\n",
       "105  disappointed    -0.955437      -0.946980       -0.934518   \n",
       "96          money    -0.768793      -0.762734       -0.753818   \n",
       "113        return    -0.742085      -0.735502       -0.725807   \n",
       "112         waste    -0.617809      -0.612475       -0.604620   \n",
       "168      returned    -0.572707      -0.567518       -0.559870   \n",
       "2           great     0.801625       0.796897        0.789935   \n",
       "33        perfect     0.835693       0.828555        0.818038   \n",
       "7            easy     0.984559       0.977600        0.967362   \n",
       "22          loves     1.052484       1.043903        1.031265   \n",
       "3            love     1.058554       1.050856        1.039529   \n",
       "\n",
       "     coefficient_1e2  coefficient_1e3  cofficient_1e5  \n",
       "105        -0.775625        -0.266095       -0.004013  \n",
       "96         -0.641406        -0.275883       -0.005487  \n",
       "113        -0.602646        -0.215199       -0.003730  \n",
       "112        -0.505189        -0.190631       -0.003345  \n",
       "168        -0.462056        -0.150021       -0.002225  \n",
       "2           0.701425         0.376012        0.008950  \n",
       "33          0.684143         0.250614        0.003989  \n",
       "7           0.838245         0.401904        0.008808  \n",
       "22          0.870794         0.345870        0.006150  \n",
       "3           0.896644         0.418354        0.009042  "
      ]
     },
     "execution_count": 135,
     "metadata": {},
     "output_type": "execute_result"
    }
   ],
   "source": [
    "coefficients_needed"
   ]
  },
  {
   "cell_type": "code",
   "execution_count": 152,
   "metadata": {
    "collapsed": false
   },
   "outputs": [
    {
     "data": {
      "text/plain": [
       "(6L, 1L)"
      ]
     },
     "execution_count": 152,
     "metadata": {},
     "output_type": "execute_result"
    }
   ],
   "source": [
    "coefficients_needed[coefficients_needed.words == 'disappointed'].ix[:,1:].as_matrix().T.shape"
   ]
  },
  {
   "cell_type": "code",
   "execution_count": 174,
   "metadata": {
    "collapsed": false,
    "scrolled": false
   },
   "outputs": [
    {
     "data": {
      "image/png": "[encoded data removed]",
      "text/plain": [
       "<matplotlib.figure.Figure at 0x11b68160>"
      ]
     },
     "metadata": {},
     "output_type": "display_data"
    }
   ],
   "source": [
    "plt.rcParams['figure.figsize'] = 10, 10\n",
    "plt.plot([1,1e5],[0,0], 'k-', linewidth=4.0)\n",
    "for w in coefficients_needed.words:\n",
    "    plt.plot(l2_penalty, coefficients_needed[coefficients_needed.words == w].ix[:,1:].as_matrix().T,'-',\n",
    "             label=w, linewidth = 4.0)\n",
    "plt.legend(loc='best', ncol=3, prop={'size':16}, columnspacing=0.5)\n",
    "plt.axis([1, 1e5, -1, 2])\n",
    "plt.title('Coefficient path')\n",
    "plt.xlabel('L2 penalty ($\\lambda$)')\n",
    "plt.ylabel('Coefficient value')\n",
    "plt.xscale('log')\n",
    "plt.show()"
   ]
  },
  {
   "cell_type": "code",
   "execution_count": 179,
   "metadata": {
    "collapsed": true
   },
   "outputs": [],
   "source": [
    "def get_accuracy(x,w,y):\n",
    "    pred = np.where(x.dot(w) >0,1,0)\n",
    "    return pred[y == pred].shape[0]/y.shape[0]\n",
    "#     return pred[y==pred].shape[0]/y.shape[0]"
   ]
  },
  {
   "cell_type": "code",
   "execution_count": 177,
   "metadata": {
    "collapsed": true
   },
   "outputs": [],
   "source": [
    "p = get_accuracy(feature_matrix_train, coefficients_0_penalty, sentiment_train)"
   ]
  },
  {
   "cell_type": "code",
   "execution_count": 186,
   "metadata": {
    "collapsed": false
   },
   "outputs": [
    {
     "data": {
      "text/plain": [
       "0.38610986520620383"
      ]
     },
     "execution_count": 186,
     "metadata": {},
     "output_type": "execute_result"
    }
   ],
   "source": [
    "p[p==sentiment_train].shape[0]/sentiment_train.shape[0]"
   ]
  },
  {
   "cell_type": "code",
   "execution_count": 182,
   "metadata": {
    "collapsed": true
   },
   "outputs": [],
   "source": [
    "accuracy_0_train = get_accuracy(feature_matrix_train, coefficients_0_penalty, sentiment_train)\n",
    "\n",
    "accuracy_4_train = get_accuracy(feature_matrix_train, coefficients_4_penalty, sentiment_train)\n",
    "\n",
    "accuracy_10_train = get_accuracy(feature_matrix_train, coefficients_10_penalty, sentiment_train)\n",
    "\n",
    "accuracy_1e2_train = get_accuracy(feature_matrix_train, coefficients_1e2_penalty, sentiment_train)\n",
    "\n",
    "accuracy_1e3_train = get_accuracy(feature_matrix_train, coefficients_1e3_penalty, sentiment_train)\n",
    "\n",
    "accuracy_1e5_train = get_accuracy(feature_matrix_train, coefficients_1e5_penalty, sentiment_train)\n"
   ]
  },
  {
   "cell_type": "code",
   "execution_count": 183,
   "metadata": {
    "collapsed": false
   },
   "outputs": [
    {
     "name": "stdout",
     "output_type": "stream",
     "text": [
      "0.386109865206 \n",
      " 0.386086258587 \n",
      " 0.386015438729 \n",
      " 0.385260026912  \n",
      " 0.388942659522  \n",
      " 0.44970609759\n"
     ]
    }
   ],
   "source": [
    "print(accuracy_0_train,'\\n', accuracy_4_train,'\\n', accuracy_10_train,'\\n', accuracy_1e2_train,' \\n', accuracy_1e3_train,' \\n',\n",
    "      accuracy_1e5_train)"
   ]
  },
  {
   "cell_type": "code",
   "execution_count": 184,
   "metadata": {
    "collapsed": false
   },
   "outputs": [],
   "source": [
    "accuracy_0_valid = get_accuracy(feature_matrix_valid, coefficients_0_penalty, sentiment_valid)\n",
    "\n",
    "accuracy_4_valid = get_accuracy(feature_matrix_valid, coefficients_4_penalty, sentiment_valid)\n",
    "\n",
    "accuracy_10_valid = get_accuracy(feature_matrix_valid, coefficients_10_penalty, sentiment_valid)\n",
    "\n",
    "accuracy_1e2_valid = get_accuracy(feature_matrix_valid, coefficients_1e2_penalty, sentiment_valid)\n",
    "\n",
    "accuracy_1e3_valid = get_accuracy(feature_matrix_valid, coefficients_1e3_penalty, sentiment_valid)\n",
    "\n",
    "accuracy_1e5_valid = get_accuracy(feature_matrix_valid, coefficients_1e5_penalty, sentiment_valid)"
   ]
  },
  {
   "cell_type": "code",
   "execution_count": 185,
   "metadata": {
    "collapsed": false
   },
   "outputs": [
    {
     "name": "stdout",
     "output_type": "stream",
     "text": [
      "0.382410605919 \n",
      " 0.382410605919 \n",
      " 0.382410605919 \n",
      " 0.381850434133  \n",
      " 0.388105685744  \n",
      " 0.445149845953\n"
     ]
    }
   ],
   "source": [
    "print(accuracy_0_valid,'\\n', accuracy_4_valid,'\\n', accuracy_10_valid,'\\n', accuracy_1e2_valid,' \\n', accuracy_1e3_valid,' \\n',\n",
    "      accuracy_1e5_valid)"
   ]
  },
  {
   "cell_type": "code",
   "execution_count": null,
   "metadata": {
    "collapsed": true
   },
   "outputs": [],
   "source": []
  }
 ],
 "metadata": {
  "kernelspec": {
   "display_name": "Python 2",
   "language": "python",
   "name": "python2"
  },
  "language_info": {
   "codemirror_mode": {
    "name": "ipython",
    "version": 2
   },
   "file_extension": ".py",
   "mimetype": "text/x-python",
   "name": "python",
   "nbconvert_exporter": "python",
   "pygments_lexer": "ipython2",
   "version": "2.7.11"
  }
 },
 "nbformat": 4,
 "nbformat_minor": 0
}
