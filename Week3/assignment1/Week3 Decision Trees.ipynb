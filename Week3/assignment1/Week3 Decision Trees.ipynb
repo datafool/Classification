{
 "cells": [
  {
   "cell_type": "code",
   "execution_count": 9,
   "metadata": {
    "collapsed": true
   },
   "outputs": [],
   "source": [
    "from __future__ import print_function, division, absolute_import\n",
    "import pandas as pd\n",
    "import numpy as np\n",
    "\n",
    "from sklearn.preprocessing import LabelEncoder, OneHotEncoder\n",
    "\n",
    "import matplotlib.pyplot as plt\n",
    "%matplotlib inline"
   ]
  },
  {
   "cell_type": "code",
   "execution_count": 2,
   "metadata": {
    "collapsed": false
   },
   "outputs": [
    {
     "name": "stderr",
     "output_type": "stream",
     "text": [
      "C:\\Anaconda\\lib\\site-packages\\IPython\\core\\interactiveshell.py:2902: DtypeWarning: Columns (19,47) have mixed types. Specify dtype option on import or set low_memory=False.\n",
      "  interactivity=interactivity, compiler=compiler, result=result)\n"
     ]
    }
   ],
   "source": [
    "loans = pd.read_csv('lending-club-data.csv', index_col=False)"
   ]
  },
  {
   "cell_type": "code",
   "execution_count": 3,
   "metadata": {
    "collapsed": false
   },
   "outputs": [
    {
     "name": "stdout",
     "output_type": "stream",
     "text": [
      "<class 'pandas.core.frame.DataFrame'>\n",
      "Int64Index: 122607 entries, 0 to 122606\n",
      "Data columns (total 68 columns):\n",
      "id                             122607 non-null int64\n",
      "member_id                      122607 non-null int64\n",
      "loan_amnt                      122607 non-null int64\n",
      "funded_amnt                    122607 non-null int64\n",
      "funded_amnt_inv                122607 non-null int64\n",
      "term                           122607 non-null object\n",
      "int_rate                       122607 non-null float64\n",
      "installment                    122607 non-null float64\n",
      "grade                          122607 non-null object\n",
      "sub_grade                      122607 non-null object\n",
      "emp_title                      115770 non-null object\n",
      "emp_length                     122607 non-null object\n",
      "home_ownership                 122607 non-null object\n",
      "annual_inc                     122603 non-null float64\n",
      "is_inc_v                       122607 non-null object\n",
      "issue_d                        122607 non-null object\n",
      "loan_status                    122607 non-null object\n",
      "pymnt_plan                     122607 non-null object\n",
      "url                            122607 non-null object\n",
      "desc                           60706 non-null object\n",
      "purpose                        122607 non-null object\n",
      "title                          122597 non-null object\n",
      "zip_code                       122607 non-null object\n",
      "addr_state                     122607 non-null object\n",
      "dti                            122607 non-null float64\n",
      "delinq_2yrs                    122578 non-null float64\n",
      "earliest_cr_line               122578 non-null object\n",
      "inq_last_6mths                 122578 non-null float64\n",
      "mths_since_last_delinq         50500 non-null float64\n",
      "mths_since_last_record         12531 non-null float64\n",
      "open_acc                       122578 non-null float64\n",
      "pub_rec                        122578 non-null float64\n",
      "revol_bal                      122607 non-null int64\n",
      "revol_util                     122607 non-null float64\n",
      "total_acc                      122578 non-null float64\n",
      "initial_list_status            122607 non-null object\n",
      "out_prncp                      122607 non-null float64\n",
      "out_prncp_inv                  122607 non-null float64\n",
      "total_pymnt                    122607 non-null float64\n",
      "total_pymnt_inv                122607 non-null float64\n",
      "total_rec_prncp                122607 non-null float64\n",
      "total_rec_int                  122607 non-null float64\n",
      "total_rec_late_fee             122607 non-null float64\n",
      "recoveries                     122607 non-null float64\n",
      "collection_recovery_fee        122607 non-null float64\n",
      "last_pymnt_d                   122271 non-null object\n",
      "last_pymnt_amnt                122607 non-null float64\n",
      "next_pymnt_d                   2907 non-null object\n",
      "last_credit_pull_d             122601 non-null object\n",
      "collections_12_mths_ex_med     122462 non-null float64\n",
      "mths_since_last_major_derog    15460 non-null float64\n",
      "policy_code                    122607 non-null int64\n",
      "not_compliant                  122607 non-null int64\n",
      "status                         122607 non-null object\n",
      "inactive_loans                 122607 non-null int64\n",
      "bad_loans                      122607 non-null int64\n",
      "emp_length_num                 122607 non-null int64\n",
      "grade_num                      122607 non-null int64\n",
      "sub_grade_num                  122607 non-null float64\n",
      "delinq_2yrs_zero               122578 non-null float64\n",
      "pub_rec_zero                   122578 non-null float64\n",
      "collections_12_mths_zero       122462 non-null float64\n",
      "short_emp                      122607 non-null int64\n",
      "payment_inc_ratio              122603 non-null float64\n",
      "final_d                        122607 non-null object\n",
      "last_delinq_none               122607 non-null int64\n",
      "last_record_none               122607 non-null int64\n",
      "last_major_derog_none          122607 non-null int64\n",
      "dtypes: float64(29), int64(16), object(23)\n",
      "memory usage: 64.5+ MB\n"
     ]
    }
   ],
   "source": [
    "loans.info()"
   ]
  },
  {
   "cell_type": "code",
   "execution_count": 7,
   "metadata": {
    "collapsed": false
   },
   "outputs": [
    {
     "data": {
      "text/plain": [
       "array([0, 1], dtype=int64)"
      ]
     },
     "execution_count": 7,
     "metadata": {},
     "output_type": "execute_result"
    }
   ],
   "source": [
    "np.unique(loans.bad_loans)"
   ]
  },
  {
   "cell_type": "code",
   "execution_count": 4,
   "metadata": {
    "collapsed": false
   },
   "outputs": [
    {
     "name": "stdout",
     "output_type": "stream",
     "text": [
      "percebtage safe loans 0.188815\n",
      "percebtage risky loans 0.811185\n"
     ]
    }
   ],
   "source": [
    "print(\"percebtage safe loans %f\" %(loans[loans.bad_loans ==1].shape[0]/loans.shape[0]))\n",
    "print(\"percebtage risky loans %f\" %(loans[loans.bad_loans ==0].shape[0]/loans.shape[0]))"
   ]
  },
  {
   "cell_type": "code",
   "execution_count": 5,
   "metadata": {
    "collapsed": true
   },
   "outputs": [],
   "source": [
    "feature =['grade',\n",
    "         'sub_grade',\n",
    "         'short_emp',\n",
    "         'emp_length_num',\n",
    "         'home_ownership',\n",
    "         'dti',\n",
    "         'purpose',\n",
    "         'term',\n",
    "         'last_delinq_none',\n",
    "         'last_major_derog_none',\n",
    "         'revol_util',\n",
    "         'total_rec_late_fee']\n",
    "\n",
    "target ='bad_loans'"
   ]
  },
  {
   "cell_type": "code",
   "execution_count": 6,
   "metadata": {
    "collapsed": false
   },
   "outputs": [],
   "source": [
    "loans = loans[feature +[target]]"
   ]
  },
  {
   "cell_type": "code",
   "execution_count": 7,
   "metadata": {
    "collapsed": false
   },
   "outputs": [
    {
     "name": "stdout",
     "output_type": "stream",
     "text": [
      "<class 'pandas.core.frame.DataFrame'>\n",
      "Int64Index: 122607 entries, 0 to 122606\n",
      "Data columns (total 13 columns):\n",
      "grade                    122607 non-null object\n",
      "sub_grade                122607 non-null object\n",
      "short_emp                122607 non-null int64\n",
      "emp_length_num           122607 non-null int64\n",
      "home_ownership           122607 non-null object\n",
      "dti                      122607 non-null float64\n",
      "purpose                  122607 non-null object\n",
      "term                     122607 non-null object\n",
      "last_delinq_none         122607 non-null int64\n",
      "last_major_derog_none    122607 non-null int64\n",
      "revol_util               122607 non-null float64\n",
      "total_rec_late_fee       122607 non-null float64\n",
      "bad_loans                122607 non-null int64\n",
      "dtypes: float64(3), int64(5), object(5)\n",
      "memory usage: 13.1+ MB\n"
     ]
    }
   ],
   "source": [
    "loans.info()"
   ]
  },
  {
   "cell_type": "code",
   "execution_count": 32,
   "metadata": {
    "collapsed": true
   },
   "outputs": [],
   "source": [
    "train_ix = pd.read_json('module-5-assignment-1-train-idx.json')[0].values\n",
    "valid_ix = pd.read_json('module-5-assignment-1-validation-idx.json')[0].values"
   ]
  },
  {
   "cell_type": "code",
   "execution_count": 11,
   "metadata": {
    "collapsed": false
   },
   "outputs": [
    {
     "data": {
      "text/html": [
       "<div>\n",
       "<table border=\"1\" class=\"dataframe\">\n",
       "  <thead>\n",
       "    <tr style=\"text-align: right;\">\n",
       "      <th></th>\n",
       "      <th>grade</th>\n",
       "      <th>sub_grade</th>\n",
       "      <th>short_emp</th>\n",
       "      <th>emp_length_num</th>\n",
       "      <th>home_ownership</th>\n",
       "      <th>dti</th>\n",
       "      <th>purpose</th>\n",
       "      <th>term</th>\n",
       "      <th>last_delinq_none</th>\n",
       "      <th>last_major_derog_none</th>\n",
       "      <th>revol_util</th>\n",
       "      <th>total_rec_late_fee</th>\n",
       "      <th>bad_loans</th>\n",
       "    </tr>\n",
       "  </thead>\n",
       "  <tbody>\n",
       "    <tr>\n",
       "      <th>0</th>\n",
       "      <td>B</td>\n",
       "      <td>B2</td>\n",
       "      <td>0</td>\n",
       "      <td>11</td>\n",
       "      <td>RENT</td>\n",
       "      <td>27.65</td>\n",
       "      <td>credit_card</td>\n",
       "      <td>36 months</td>\n",
       "      <td>1</td>\n",
       "      <td>1</td>\n",
       "      <td>83.7</td>\n",
       "      <td>0.00</td>\n",
       "      <td>0</td>\n",
       "    </tr>\n",
       "    <tr>\n",
       "      <th>1</th>\n",
       "      <td>C</td>\n",
       "      <td>C4</td>\n",
       "      <td>1</td>\n",
       "      <td>1</td>\n",
       "      <td>RENT</td>\n",
       "      <td>1.00</td>\n",
       "      <td>car</td>\n",
       "      <td>60 months</td>\n",
       "      <td>1</td>\n",
       "      <td>1</td>\n",
       "      <td>9.4</td>\n",
       "      <td>0.00</td>\n",
       "      <td>1</td>\n",
       "    </tr>\n",
       "    <tr>\n",
       "      <th>2</th>\n",
       "      <td>C</td>\n",
       "      <td>C5</td>\n",
       "      <td>0</td>\n",
       "      <td>11</td>\n",
       "      <td>RENT</td>\n",
       "      <td>8.72</td>\n",
       "      <td>small_business</td>\n",
       "      <td>36 months</td>\n",
       "      <td>1</td>\n",
       "      <td>1</td>\n",
       "      <td>98.5</td>\n",
       "      <td>0.00</td>\n",
       "      <td>0</td>\n",
       "    </tr>\n",
       "    <tr>\n",
       "      <th>3</th>\n",
       "      <td>C</td>\n",
       "      <td>C1</td>\n",
       "      <td>0</td>\n",
       "      <td>11</td>\n",
       "      <td>RENT</td>\n",
       "      <td>20.00</td>\n",
       "      <td>other</td>\n",
       "      <td>36 months</td>\n",
       "      <td>0</td>\n",
       "      <td>1</td>\n",
       "      <td>21.0</td>\n",
       "      <td>16.97</td>\n",
       "      <td>0</td>\n",
       "    </tr>\n",
       "    <tr>\n",
       "      <th>4</th>\n",
       "      <td>A</td>\n",
       "      <td>A4</td>\n",
       "      <td>0</td>\n",
       "      <td>4</td>\n",
       "      <td>RENT</td>\n",
       "      <td>11.20</td>\n",
       "      <td>wedding</td>\n",
       "      <td>36 months</td>\n",
       "      <td>1</td>\n",
       "      <td>1</td>\n",
       "      <td>28.3</td>\n",
       "      <td>0.00</td>\n",
       "      <td>0</td>\n",
       "    </tr>\n",
       "  </tbody>\n",
       "</table>\n",
       "</div>"
      ],
      "text/plain": [
       "  grade sub_grade  short_emp  emp_length_num home_ownership    dti  \\\n",
       "0     B        B2          0              11           RENT  27.65   \n",
       "1     C        C4          1               1           RENT   1.00   \n",
       "2     C        C5          0              11           RENT   8.72   \n",
       "3     C        C1          0              11           RENT  20.00   \n",
       "4     A        A4          0               4           RENT  11.20   \n",
       "\n",
       "          purpose        term  last_delinq_none  last_major_derog_none  \\\n",
       "0     credit_card   36 months                 1                      1   \n",
       "1             car   60 months                 1                      1   \n",
       "2  small_business   36 months                 1                      1   \n",
       "3           other   36 months                 0                      1   \n",
       "4         wedding   36 months                 1                      1   \n",
       "\n",
       "   revol_util  total_rec_late_fee  bad_loans  \n",
       "0        83.7                0.00          0  \n",
       "1         9.4                0.00          1  \n",
       "2        98.5                0.00          0  \n",
       "3        21.0               16.97          0  \n",
       "4        28.3                0.00          0  "
      ]
     },
     "execution_count": 11,
     "metadata": {},
     "output_type": "execute_result"
    }
   ],
   "source": [
    "loans.head()"
   ]
  },
  {
   "cell_type": "code",
   "execution_count": 13,
   "metadata": {
    "collapsed": false
   },
   "outputs": [],
   "source": [
    "## Label Encoding those features of whcih dtype is 'object'\n",
    "label_encoder_class = {}\n",
    "for l in loans:\n",
    "    if loans[l].dtype.name == \"object\":\n",
    "        le = LabelEncoder()\n",
    "        loans[l] = le.fit_transform(loans[l])\n",
    "        label_encoder_class[l] = le.classes_\n",
    "        \n",
    "        "
   ]
  },
  {
   "cell_type": "code",
   "execution_count": 14,
   "metadata": {
    "collapsed": false
   },
   "outputs": [
    {
     "data": {
      "text/html": [
       "<div>\n",
       "<table border=\"1\" class=\"dataframe\">\n",
       "  <thead>\n",
       "    <tr style=\"text-align: right;\">\n",
       "      <th></th>\n",
       "      <th>grade</th>\n",
       "      <th>sub_grade</th>\n",
       "      <th>short_emp</th>\n",
       "      <th>emp_length_num</th>\n",
       "      <th>home_ownership</th>\n",
       "      <th>dti</th>\n",
       "      <th>purpose</th>\n",
       "      <th>term</th>\n",
       "      <th>last_delinq_none</th>\n",
       "      <th>last_major_derog_none</th>\n",
       "      <th>revol_util</th>\n",
       "      <th>total_rec_late_fee</th>\n",
       "      <th>bad_loans</th>\n",
       "    </tr>\n",
       "  </thead>\n",
       "  <tbody>\n",
       "    <tr>\n",
       "      <th>0</th>\n",
       "      <td>1</td>\n",
       "      <td>6</td>\n",
       "      <td>0</td>\n",
       "      <td>11</td>\n",
       "      <td>3</td>\n",
       "      <td>27.65</td>\n",
       "      <td>1</td>\n",
       "      <td>0</td>\n",
       "      <td>1</td>\n",
       "      <td>1</td>\n",
       "      <td>83.7</td>\n",
       "      <td>0.00</td>\n",
       "      <td>0</td>\n",
       "    </tr>\n",
       "    <tr>\n",
       "      <th>1</th>\n",
       "      <td>2</td>\n",
       "      <td>13</td>\n",
       "      <td>1</td>\n",
       "      <td>1</td>\n",
       "      <td>3</td>\n",
       "      <td>1.00</td>\n",
       "      <td>0</td>\n",
       "      <td>1</td>\n",
       "      <td>1</td>\n",
       "      <td>1</td>\n",
       "      <td>9.4</td>\n",
       "      <td>0.00</td>\n",
       "      <td>1</td>\n",
       "    </tr>\n",
       "    <tr>\n",
       "      <th>2</th>\n",
       "      <td>2</td>\n",
       "      <td>14</td>\n",
       "      <td>0</td>\n",
       "      <td>11</td>\n",
       "      <td>3</td>\n",
       "      <td>8.72</td>\n",
       "      <td>9</td>\n",
       "      <td>0</td>\n",
       "      <td>1</td>\n",
       "      <td>1</td>\n",
       "      <td>98.5</td>\n",
       "      <td>0.00</td>\n",
       "      <td>0</td>\n",
       "    </tr>\n",
       "    <tr>\n",
       "      <th>3</th>\n",
       "      <td>2</td>\n",
       "      <td>10</td>\n",
       "      <td>0</td>\n",
       "      <td>11</td>\n",
       "      <td>3</td>\n",
       "      <td>20.00</td>\n",
       "      <td>8</td>\n",
       "      <td>0</td>\n",
       "      <td>0</td>\n",
       "      <td>1</td>\n",
       "      <td>21.0</td>\n",
       "      <td>16.97</td>\n",
       "      <td>0</td>\n",
       "    </tr>\n",
       "    <tr>\n",
       "      <th>4</th>\n",
       "      <td>0</td>\n",
       "      <td>3</td>\n",
       "      <td>0</td>\n",
       "      <td>4</td>\n",
       "      <td>3</td>\n",
       "      <td>11.20</td>\n",
       "      <td>11</td>\n",
       "      <td>0</td>\n",
       "      <td>1</td>\n",
       "      <td>1</td>\n",
       "      <td>28.3</td>\n",
       "      <td>0.00</td>\n",
       "      <td>0</td>\n",
       "    </tr>\n",
       "  </tbody>\n",
       "</table>\n",
       "</div>"
      ],
      "text/plain": [
       "   grade  sub_grade  short_emp  emp_length_num  home_ownership    dti  \\\n",
       "0      1          6          0              11               3  27.65   \n",
       "1      2         13          1               1               3   1.00   \n",
       "2      2         14          0              11               3   8.72   \n",
       "3      2         10          0              11               3  20.00   \n",
       "4      0          3          0               4               3  11.20   \n",
       "\n",
       "   purpose  term  last_delinq_none  last_major_derog_none  revol_util  \\\n",
       "0        1     0                 1                      1        83.7   \n",
       "1        0     1                 1                      1         9.4   \n",
       "2        9     0                 1                      1        98.5   \n",
       "3        8     0                 0                      1        21.0   \n",
       "4       11     0                 1                      1        28.3   \n",
       "\n",
       "   total_rec_late_fee  bad_loans  \n",
       "0                0.00          0  \n",
       "1                0.00          1  \n",
       "2                0.00          0  \n",
       "3               16.97          0  \n",
       "4                0.00          0  "
      ]
     },
     "execution_count": 14,
     "metadata": {},
     "output_type": "execute_result"
    }
   ],
   "source": [
    "loans.head()"
   ]
  },
  {
   "cell_type": "code",
   "execution_count": 18,
   "metadata": {
    "collapsed": false
   },
   "outputs": [
    {
     "data": {
      "text/plain": [
       "array(['MORTGAGE', 'OTHER', 'OWN', 'RENT'], dtype=object)"
      ]
     },
     "execution_count": 18,
     "metadata": {},
     "output_type": "execute_result"
    }
   ],
   "source": [
    "label_encoder_class['home_ownership']"
   ]
  },
  {
   "cell_type": "code",
   "execution_count": 23,
   "metadata": {
    "collapsed": false
   },
   "outputs": [
    {
     "data": {
      "text/plain": [
       "array([  0.00000000e+00,   1.00000000e-02,   2.00000000e-02, ...,\n",
       "         3.95500000e+01,   3.97500000e+01,   3.98800000e+01])"
      ]
     },
     "execution_count": 23,
     "metadata": {},
     "output_type": "execute_result"
    }
   ],
   "source": [
    "np.unique(loans.dti)"
   ]
  },
  {
   "cell_type": "code",
   "execution_count": 24,
   "metadata": {
    "collapsed": true
   },
   "outputs": [],
   "source": [
    "x = loans[feature]\n",
    "y = loans[target]"
   ]
  },
  {
   "cell_type": "code",
   "execution_count": 25,
   "metadata": {
    "collapsed": true
   },
   "outputs": [],
   "source": [
    "categorical_feature = [0,1,2,4,6,7,8,9]"
   ]
  },
  {
   "cell_type": "code",
   "execution_count": 26,
   "metadata": {
    "collapsed": true
   },
   "outputs": [],
   "source": [
    "one = OneHotEncoder(categorical_features=categorical_feature, sparse=False)\n",
    "x_one_hot_encoded = one.fit_transform(x)"
   ]
  },
  {
   "cell_type": "code",
   "execution_count": 40,
   "metadata": {
    "collapsed": true
   },
   "outputs": [],
   "source": [
    "train_x = x_one_hot_encoded[train_ix]\n",
    "train_y = y[train_ix]"
   ]
  },
  {
   "cell_type": "code",
   "execution_count": 41,
   "metadata": {
    "collapsed": true
   },
   "outputs": [],
   "source": [
    "valid_x = x_one_hot_encoded[valid_ix]\n",
    "valid_y = y[valid_x]"
   ]
  },
  {
   "cell_type": "code",
   "execution_count": null,
   "metadata": {
    "collapsed": true
   },
   "outputs": [],
   "source": []
  },
  {
   "cell_type": "code",
   "execution_count": null,
   "metadata": {
    "collapsed": true
   },
   "outputs": [],
   "source": []
  },
  {
   "cell_type": "code",
   "execution_count": null,
   "metadata": {
    "collapsed": true
   },
   "outputs": [],
   "source": []
  },
  {
   "cell_type": "code",
   "execution_count": null,
   "metadata": {
    "collapsed": true
   },
   "outputs": [],
   "source": []
  },
  {
   "cell_type": "code",
   "execution_count": null,
   "metadata": {
    "collapsed": true
   },
   "outputs": [],
   "source": []
  },
  {
   "cell_type": "code",
   "execution_count": null,
   "metadata": {
    "collapsed": true
   },
   "outputs": [],
   "source": []
  }
 ],
 "metadata": {
  "kernelspec": {
   "display_name": "Python 2",
   "language": "python",
   "name": "python2"
  },
  "language_info": {
   "codemirror_mode": {
    "name": "ipython",
    "version": 2
   },
   "file_extension": ".py",
   "mimetype": "text/x-python",
   "name": "python",
   "nbconvert_exporter": "python",
   "pygments_lexer": "ipython2",
   "version": "2.7.11"
  }
 },
 "nbformat": 4,
 "nbformat_minor": 0
}
